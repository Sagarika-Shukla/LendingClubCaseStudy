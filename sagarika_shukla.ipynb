{
 "cells": [
  {
   "cell_type": "code",
   "execution_count": 11,
   "id": "8c55c44f",
   "metadata": {},
   "outputs": [],
   "source": [
    "#Importing all of the required packages/libraries\n",
    "import pandas as pd\n",
    "import matplotlib as plt\n",
    "import seaborn as sns\n",
    "import numpy as np\n",
    "import warnings\n",
    "warnings.filterwarnings('ignore')  # to ignore warnings if any"
   ]
  },
  {
   "cell_type": "code",
   "execution_count": 3,
   "id": "aeac25de",
   "metadata": {},
   "outputs": [
    {
     "name": "stdout",
     "output_type": "stream",
     "text": [
      "1.21.5\n"
     ]
    }
   ],
   "source": [
    "#Loading the dataset\n",
    "\n",
    "loan = pd.read_csv(\"loan.csv\",dtype=object)"
   ]
  },
  {
   "cell_type": "code",
   "execution_count": 195,
   "id": "363c9aa7",
   "metadata": {},
   "outputs": [
    {
     "data": {
      "text/html": [
       "<div>\n",
       "<style scoped>\n",
       "    .dataframe tbody tr th:only-of-type {\n",
       "        vertical-align: middle;\n",
       "    }\n",
       "\n",
       "    .dataframe tbody tr th {\n",
       "        vertical-align: top;\n",
       "    }\n",
       "\n",
       "    .dataframe thead th {\n",
       "        text-align: right;\n",
       "    }\n",
       "</style>\n",
       "<table border=\"1\" class=\"dataframe\">\n",
       "  <thead>\n",
       "    <tr style=\"text-align: right;\">\n",
       "      <th></th>\n",
       "      <th>id</th>\n",
       "      <th>member_id</th>\n",
       "      <th>loan_amnt</th>\n",
       "      <th>funded_amnt</th>\n",
       "      <th>funded_amnt_inv</th>\n",
       "      <th>term</th>\n",
       "      <th>int_rate</th>\n",
       "      <th>installment</th>\n",
       "      <th>grade</th>\n",
       "      <th>sub_grade</th>\n",
       "      <th>...</th>\n",
       "      <th>num_tl_90g_dpd_24m</th>\n",
       "      <th>num_tl_op_past_12m</th>\n",
       "      <th>pct_tl_nvr_dlq</th>\n",
       "      <th>percent_bc_gt_75</th>\n",
       "      <th>pub_rec_bankruptcies</th>\n",
       "      <th>tax_liens</th>\n",
       "      <th>tot_hi_cred_lim</th>\n",
       "      <th>total_bal_ex_mort</th>\n",
       "      <th>total_bc_limit</th>\n",
       "      <th>total_il_high_credit_limit</th>\n",
       "    </tr>\n",
       "  </thead>\n",
       "  <tbody>\n",
       "    <tr>\n",
       "      <th>0</th>\n",
       "      <td>1077501</td>\n",
       "      <td>1296599</td>\n",
       "      <td>5000</td>\n",
       "      <td>5000</td>\n",
       "      <td>4975</td>\n",
       "      <td>36 months</td>\n",
       "      <td>10.65%</td>\n",
       "      <td>162.87</td>\n",
       "      <td>B</td>\n",
       "      <td>B2</td>\n",
       "      <td>...</td>\n",
       "      <td>NaN</td>\n",
       "      <td>NaN</td>\n",
       "      <td>NaN</td>\n",
       "      <td>NaN</td>\n",
       "      <td>0</td>\n",
       "      <td>0</td>\n",
       "      <td>NaN</td>\n",
       "      <td>NaN</td>\n",
       "      <td>NaN</td>\n",
       "      <td>NaN</td>\n",
       "    </tr>\n",
       "    <tr>\n",
       "      <th>1</th>\n",
       "      <td>1077430</td>\n",
       "      <td>1314167</td>\n",
       "      <td>2500</td>\n",
       "      <td>2500</td>\n",
       "      <td>2500</td>\n",
       "      <td>60 months</td>\n",
       "      <td>15.27%</td>\n",
       "      <td>59.83</td>\n",
       "      <td>C</td>\n",
       "      <td>C4</td>\n",
       "      <td>...</td>\n",
       "      <td>NaN</td>\n",
       "      <td>NaN</td>\n",
       "      <td>NaN</td>\n",
       "      <td>NaN</td>\n",
       "      <td>0</td>\n",
       "      <td>0</td>\n",
       "      <td>NaN</td>\n",
       "      <td>NaN</td>\n",
       "      <td>NaN</td>\n",
       "      <td>NaN</td>\n",
       "    </tr>\n",
       "    <tr>\n",
       "      <th>2</th>\n",
       "      <td>1077175</td>\n",
       "      <td>1313524</td>\n",
       "      <td>2400</td>\n",
       "      <td>2400</td>\n",
       "      <td>2400</td>\n",
       "      <td>36 months</td>\n",
       "      <td>15.96%</td>\n",
       "      <td>84.33</td>\n",
       "      <td>C</td>\n",
       "      <td>C5</td>\n",
       "      <td>...</td>\n",
       "      <td>NaN</td>\n",
       "      <td>NaN</td>\n",
       "      <td>NaN</td>\n",
       "      <td>NaN</td>\n",
       "      <td>0</td>\n",
       "      <td>0</td>\n",
       "      <td>NaN</td>\n",
       "      <td>NaN</td>\n",
       "      <td>NaN</td>\n",
       "      <td>NaN</td>\n",
       "    </tr>\n",
       "    <tr>\n",
       "      <th>3</th>\n",
       "      <td>1076863</td>\n",
       "      <td>1277178</td>\n",
       "      <td>10000</td>\n",
       "      <td>10000</td>\n",
       "      <td>10000</td>\n",
       "      <td>36 months</td>\n",
       "      <td>13.49%</td>\n",
       "      <td>339.31</td>\n",
       "      <td>C</td>\n",
       "      <td>C1</td>\n",
       "      <td>...</td>\n",
       "      <td>NaN</td>\n",
       "      <td>NaN</td>\n",
       "      <td>NaN</td>\n",
       "      <td>NaN</td>\n",
       "      <td>0</td>\n",
       "      <td>0</td>\n",
       "      <td>NaN</td>\n",
       "      <td>NaN</td>\n",
       "      <td>NaN</td>\n",
       "      <td>NaN</td>\n",
       "    </tr>\n",
       "    <tr>\n",
       "      <th>4</th>\n",
       "      <td>1075358</td>\n",
       "      <td>1311748</td>\n",
       "      <td>3000</td>\n",
       "      <td>3000</td>\n",
       "      <td>3000</td>\n",
       "      <td>60 months</td>\n",
       "      <td>12.69%</td>\n",
       "      <td>67.79</td>\n",
       "      <td>B</td>\n",
       "      <td>B5</td>\n",
       "      <td>...</td>\n",
       "      <td>NaN</td>\n",
       "      <td>NaN</td>\n",
       "      <td>NaN</td>\n",
       "      <td>NaN</td>\n",
       "      <td>0</td>\n",
       "      <td>0</td>\n",
       "      <td>NaN</td>\n",
       "      <td>NaN</td>\n",
       "      <td>NaN</td>\n",
       "      <td>NaN</td>\n",
       "    </tr>\n",
       "  </tbody>\n",
       "</table>\n",
       "<p>5 rows × 111 columns</p>\n",
       "</div>"
      ],
      "text/plain": [
       "        id member_id loan_amnt funded_amnt funded_amnt_inv        term  \\\n",
       "0  1077501   1296599      5000        5000            4975   36 months   \n",
       "1  1077430   1314167      2500        2500            2500   60 months   \n",
       "2  1077175   1313524      2400        2400            2400   36 months   \n",
       "3  1076863   1277178     10000       10000           10000   36 months   \n",
       "4  1075358   1311748      3000        3000            3000   60 months   \n",
       "\n",
       "  int_rate installment grade sub_grade  ... num_tl_90g_dpd_24m  \\\n",
       "0   10.65%      162.87     B        B2  ...                NaN   \n",
       "1   15.27%       59.83     C        C4  ...                NaN   \n",
       "2   15.96%       84.33     C        C5  ...                NaN   \n",
       "3   13.49%      339.31     C        C1  ...                NaN   \n",
       "4   12.69%       67.79     B        B5  ...                NaN   \n",
       "\n",
       "  num_tl_op_past_12m pct_tl_nvr_dlq percent_bc_gt_75 pub_rec_bankruptcies  \\\n",
       "0                NaN            NaN              NaN                    0   \n",
       "1                NaN            NaN              NaN                    0   \n",
       "2                NaN            NaN              NaN                    0   \n",
       "3                NaN            NaN              NaN                    0   \n",
       "4                NaN            NaN              NaN                    0   \n",
       "\n",
       "  tax_liens tot_hi_cred_lim total_bal_ex_mort total_bc_limit  \\\n",
       "0         0             NaN               NaN            NaN   \n",
       "1         0             NaN               NaN            NaN   \n",
       "2         0             NaN               NaN            NaN   \n",
       "3         0             NaN               NaN            NaN   \n",
       "4         0             NaN               NaN            NaN   \n",
       "\n",
       "  total_il_high_credit_limit  \n",
       "0                        NaN  \n",
       "1                        NaN  \n",
       "2                        NaN  \n",
       "3                        NaN  \n",
       "4                        NaN  \n",
       "\n",
       "[5 rows x 111 columns]"
      ]
     },
     "execution_count": 195,
     "metadata": {},
     "output_type": "execute_result"
    }
   ],
   "source": [
    "#Checking first five rows of the dataset\n",
    "loan.head()"
   ]
  },
  {
   "cell_type": "code",
   "execution_count": 196,
   "id": "89016e65",
   "metadata": {},
   "outputs": [
    {
     "name": "stdout",
     "output_type": "stream",
     "text": [
      "(39717, 111)\n"
     ]
    }
   ],
   "source": [
    "#Shape/Structure of the dataset \n",
    "#Total rows =397171 and columns =111\n",
    "print(loan.shape)"
   ]
  },
  {
   "cell_type": "markdown",
   "id": "aab223d1",
   "metadata": {},
   "source": [
    "# Data Cleaning"
   ]
  },
  {
   "cell_type": "code",
   "execution_count": 197,
   "id": "3a2e90df",
   "metadata": {},
   "outputs": [
    {
     "data": {
      "text/plain": [
       "id                                0\n",
       "member_id                         0\n",
       "loan_amnt                         0\n",
       "funded_amnt                       0\n",
       "funded_amnt_inv                   0\n",
       "                              ...  \n",
       "tax_liens                        39\n",
       "tot_hi_cred_lim               39717\n",
       "total_bal_ex_mort             39717\n",
       "total_bc_limit                39717\n",
       "total_il_high_credit_limit    39717\n",
       "Length: 111, dtype: int64"
      ]
     },
     "execution_count": 197,
     "metadata": {},
     "output_type": "execute_result"
    }
   ],
   "source": [
    "loan.isnull().sum()"
   ]
  },
  {
   "cell_type": "code",
   "execution_count": 198,
   "id": "c3ae114b",
   "metadata": {},
   "outputs": [
    {
     "data": {
      "text/plain": [
       "id                              0.000000\n",
       "member_id                       0.000000\n",
       "loan_amnt                       0.000000\n",
       "funded_amnt                     0.000000\n",
       "funded_amnt_inv                 0.000000\n",
       "                                 ...    \n",
       "tax_liens                       0.098195\n",
       "tot_hi_cred_lim               100.000000\n",
       "total_bal_ex_mort             100.000000\n",
       "total_bc_limit                100.000000\n",
       "total_il_high_credit_limit    100.000000\n",
       "Length: 111, dtype: float64"
      ]
     },
     "execution_count": 198,
     "metadata": {},
     "output_type": "execute_result"
    }
   ],
   "source": [
    "(loan.isna().sum()/loan.shape[0])*100"
   ]
  },
  {
   "cell_type": "code",
   "execution_count": 199,
   "id": "656edfad",
   "metadata": {},
   "outputs": [],
   "source": [
    "# we can observe that there are multiple columns with NaN values\n",
    "# Drop all columns having all NaN values\n",
    "loan.dropna(axis=1, how='all',inplace=True)"
   ]
  },
  {
   "cell_type": "code",
   "execution_count": 200,
   "id": "6bfdc3f3",
   "metadata": {},
   "outputs": [
    {
     "data": {
      "text/plain": [
       "(39717, 57)"
      ]
     },
     "execution_count": 200,
     "metadata": {},
     "output_type": "execute_result"
    }
   ],
   "source": [
    "# We can see that all NaN value columns have been dropped now columns = 57\n",
    "loan.shape"
   ]
  },
  {
   "cell_type": "code",
   "execution_count": 201,
   "id": "53269fbc",
   "metadata": {},
   "outputs": [],
   "source": [
    "# We can see that there are few columns like id, member_id,emp_title,url,desc,title,mths_since_last_record etc are ir-relevant for this analysis\n",
    "loan.drop([\"id\",\"member_id\",\"emp_title\",\"url\",\"desc\",\"title\",\"mths_since_last_record\"],axis=1,inplace=True)\n"
   ]
  },
  {
   "cell_type": "code",
   "execution_count": 202,
   "id": "83c62679",
   "metadata": {},
   "outputs": [],
   "source": [
    "#dropping columns having single value\n",
    "#print(loan.policy_code.value_counts())\n",
    "# print(loan.acc_now_delinq.value_counts())\n",
    "# print(loan.collections_12_mths_ex_med.value_counts())\n",
    "# print(loan.pymnt_plan.value_counts())\n",
    "# print(loan.policy_code.value_counts())\n",
    "# print(loan.chargeoff_within_12_mths.value_counts())\n",
    "# print(loan.delinq_amnt.value_counts())\n",
    "# print(loan.tax_liens.value_counts())\n",
    "#print(loan.initial_list_status.value_counts())\n",
    "#print(loan.delinq_amnt.value_counts())\n",
    "#print(loan.application_type.value_counts())\n",
    "#print(loan.pub_rec_bankruptcies.value_counts())\n",
    "# we can drop because they are of single value and don't add much information for default analysis\n",
    "loan.drop([\"policy_code\",\"acc_now_delinq\",\"collections_12_mths_ex_med\",\"pymnt_plan\",\"policy_code\",\"chargeoff_within_12_mths\",\"tax_liens\",\"pub_rec_bankruptcies\",\"application_type\",\"initial_list_status\",\"mths_since_last_delinq\"],axis=1,inplace=True)"
   ]
  },
  {
   "cell_type": "code",
   "execution_count": 203,
   "id": "3227c816",
   "metadata": {},
   "outputs": [],
   "source": [
    "# Remove columns which are post loan/loan has already approved/customer behavior variables\n",
    "loan.drop([\"last_credit_pull_d\",\"out_prncp_inv\",\"total_pymnt_inv\",\"recoveries\",\"collection_recovery_fee\",\"last_pymnt_d\",\"last_pymnt_amnt\",\"next_pymnt_d\",\"total_pymnt\",\"earliest_cr_line\",\"earliest_cr_line\",\"inq_last_6mths\",\"pub_rec\",\"revol_bal\",\"revol_util\",\"total_acc\",\"out_prncp\",\"total_rec_prncp\",\"total_rec_int\",\"total_rec_late_fee\",\"open_acc\"],axis=1,inplace=True)"
   ]
  },
  {
   "cell_type": "code",
   "execution_count": 204,
   "id": "f08a3a92",
   "metadata": {},
   "outputs": [
    {
     "name": "stdout",
     "output_type": "stream",
     "text": [
      "<class 'pandas.core.frame.DataFrame'>\n",
      "RangeIndex: 39717 entries, 0 to 39716\n",
      "Data columns (total 20 columns):\n",
      " #   Column               Non-Null Count  Dtype \n",
      "---  ------               --------------  ----- \n",
      " 0   loan_amnt            39717 non-null  object\n",
      " 1   funded_amnt          39717 non-null  object\n",
      " 2   funded_amnt_inv      39717 non-null  object\n",
      " 3   term                 39717 non-null  object\n",
      " 4   int_rate             39717 non-null  object\n",
      " 5   installment          39717 non-null  object\n",
      " 6   grade                39717 non-null  object\n",
      " 7   sub_grade            39717 non-null  object\n",
      " 8   emp_length           38642 non-null  object\n",
      " 9   home_ownership       39717 non-null  object\n",
      " 10  annual_inc           39717 non-null  object\n",
      " 11  verification_status  39717 non-null  object\n",
      " 12  issue_d              39717 non-null  object\n",
      " 13  loan_status          39717 non-null  object\n",
      " 14  purpose              39717 non-null  object\n",
      " 15  zip_code             39717 non-null  object\n",
      " 16  addr_state           39717 non-null  object\n",
      " 17  dti                  39717 non-null  object\n",
      " 18  delinq_2yrs          39717 non-null  object\n",
      " 19  delinq_amnt          39717 non-null  object\n",
      "dtypes: object(20)\n",
      "memory usage: 6.1+ MB\n"
     ]
    }
   ],
   "source": [
    "#check details of each columns and their time\n",
    "loan.info()"
   ]
  },
  {
   "cell_type": "markdown",
   "id": "c2e2a15c",
   "metadata": {},
   "source": [
    "# Data Updation & Mutation"
   ]
  },
  {
   "cell_type": "code",
   "execution_count": 205,
   "id": "72256eb3",
   "metadata": {},
   "outputs": [
    {
     "data": {
      "text/plain": [
       " 36 months    29096\n",
       " 60 months    10621\n",
       "Name: term, dtype: int64"
      ]
     },
     "execution_count": 205,
     "metadata": {},
     "output_type": "execute_result"
    }
   ],
   "source": [
    "loan.term.value_counts()"
   ]
  },
  {
   "cell_type": "code",
   "execution_count": 206,
   "id": "c549f3a6",
   "metadata": {},
   "outputs": [],
   "source": [
    "#Updating column 'term' value and change type to integer\n",
    "loan.term = loan[\"term\"].apply(lambda x: x.strip()[0:2])\n",
    "loan.term = loan.term.astype(int)"
   ]
  },
  {
   "cell_type": "code",
   "execution_count": 207,
   "id": "fd627d67",
   "metadata": {},
   "outputs": [],
   "source": [
    "#Updating column 'int_rate' value and change type to integer\n",
    "loan.int_rate = loan[\"int_rate\"].apply(lambda x : x[0:-1])\n",
    "loan.int_rate = loan.int_rate.astype(float)"
   ]
  },
  {
   "cell_type": "code",
   "execution_count": 208,
   "id": "22d63139",
   "metadata": {},
   "outputs": [],
   "source": [
    "#Change the data type from object to proper type like int or float\n",
    "loan.annual_inc = loan.annual_inc.astype(float)\n",
    "loan.loan_amnt = loan.loan_amnt.astype(float)\n",
    "loan.funded_amnt = loan.funded_amnt.astype(float)\n",
    "loan.dti = loan.dti.astype(float)\n",
    "loan.installment = loan.installment.astype(float)\n",
    "loan.funded_amnt_inv = loan.funded_amnt_inv.astype(float)"
   ]
  },
  {
   "cell_type": "code",
   "execution_count": 209,
   "id": "938b6525",
   "metadata": {},
   "outputs": [
    {
     "data": {
      "text/plain": [
       "10+ years    8879\n",
       "< 1 year     4583\n",
       "2 years      4388\n",
       "3 years      4095\n",
       "4 years      3436\n",
       "5 years      3282\n",
       "1 year       3240\n",
       "6 years      2229\n",
       "7 years      1773\n",
       "8 years      1479\n",
       "9 years      1258\n",
       "Name: emp_length, dtype: int64"
      ]
     },
     "execution_count": 209,
     "metadata": {},
     "output_type": "execute_result"
    }
   ],
   "source": [
    "loan.emp_length.value_counts()"
   ]
  },
  {
   "cell_type": "code",
   "execution_count": 210,
   "id": "b00b98c1",
   "metadata": {},
   "outputs": [
    {
     "data": {
      "text/plain": [
       "2.7066495455346575"
      ]
     },
     "execution_count": 210,
     "metadata": {},
     "output_type": "execute_result"
    }
   ],
   "source": [
    "loan.emp_length.isnull().sum()/loan.shape[0]*100"
   ]
  },
  {
   "cell_type": "code",
   "execution_count": 211,
   "id": "c8a7ded3",
   "metadata": {},
   "outputs": [
    {
     "data": {
      "text/plain": [
       "1075"
      ]
     },
     "execution_count": 211,
     "metadata": {},
     "output_type": "execute_result"
    }
   ],
   "source": [
    "np.sum(loan.emp_length.isnull())"
   ]
  },
  {
   "cell_type": "code",
   "execution_count": 212,
   "id": "9801c9e0",
   "metadata": {},
   "outputs": [],
   "source": [
    "# 1075 entires has NaN for emp_length\n",
    "# We have to decide whether to drop all or mutate these entries because there might be chances of more 'Charged off' loans\n",
    "# As default loan largely depends on emp_length we can't mutate them or set some default value/average or median.\n",
    "#Better we will drop all of them having NaN values as null percentage is also very less 2.7, dropping will not affect much"
   ]
  },
  {
   "cell_type": "code",
   "execution_count": 213,
   "id": "a6346256",
   "metadata": {},
   "outputs": [],
   "source": [
    "def format_(x):\n",
    "    x = x.replace(\"years\",\"\")\n",
    "    x = x.replace(\"year\",\"\")\n",
    "    x = x.replace(\"+\",\"\")\n",
    "    x = x.replace(\"<\",\"\")\n",
    "    return (int)(x.strip())\n",
    "\n",
    "loan =loan[~loan.emp_length.isnull()]   #Dropping rows having NaN in emp_length\n",
    "loan.emp_length = loan.emp_length.apply(lambda x :format_(x)) # Formatting and changing type"
   ]
  },
  {
   "cell_type": "markdown",
   "id": "90657871",
   "metadata": {},
   "source": [
    "# Derive Metrics"
   ]
  },
  {
   "cell_type": "code",
   "execution_count": 214,
   "id": "4a2c75d3",
   "metadata": {},
   "outputs": [],
   "source": [
    "# From issue_d column we can drive issue_day, issue_month and issue_year\n",
    "#Creating new column issue_month and issue_year from issue_d 11/12. As issue_day is irrevelant so we ignore\n",
    "loan.issue_d = pd.to_datetime(loan.issue_d.str.upper(), format='%b-%y',yearfirst=False)\n",
    "\n",
    "loan[\"issue_month\"] = loan.issue_d.dt.month\n",
    "loan[\"issue_year\"] = loan.issue_d.dt.year"
   ]
  },
  {
   "cell_type": "code",
   "execution_count": 215,
   "id": "b297817d",
   "metadata": {},
   "outputs": [],
   "source": [
    "# we can drop issue_d column as this is no more required\n",
    "loan.drop([\"issue_d\"],axis=1,inplace=True)"
   ]
  },
  {
   "cell_type": "markdown",
   "id": "21e213ab",
   "metadata": {},
   "source": [
    "# Handle Outliers"
   ]
  },
  {
   "cell_type": "code",
   "execution_count": 216,
   "id": "ca1395c4",
   "metadata": {},
   "outputs": [
    {
     "data": {
      "text/plain": [
       "5000.00000     1253\n",
       "10000.00000    1235\n",
       "6000.00000     1160\n",
       "12000.00000    1054\n",
       "8000.00000      870\n",
       "               ... \n",
       "7768.60000        1\n",
       "24761.34276       1\n",
       "15494.53490       1\n",
       "23575.11517       1\n",
       "12413.59181       1\n",
       "Name: funded_amnt_inv, Length: 8097, dtype: int64"
      ]
     },
     "execution_count": 216,
     "metadata": {},
     "output_type": "execute_result"
    }
   ],
   "source": [
    "loan.funded_amnt_inv.value_counts()"
   ]
  },
  {
   "cell_type": "code",
   "execution_count": 217,
   "id": "2ea6d12c",
   "metadata": {},
   "outputs": [
    {
     "name": "stdout",
     "output_type": "stream",
     "text": [
      "35000.0\n",
      "0.0\n",
      "34750.0\n"
     ]
    }
   ],
   "source": [
    "print(np.max(loan.funded_amnt_inv))\n",
    "print(np.min(loan.funded_amnt_inv))\n",
    "print(loan.funded_amnt_inv.quantile(.99))"
   ]
  },
  {
   "cell_type": "code",
   "execution_count": 218,
   "id": "c0c5d227",
   "metadata": {},
   "outputs": [
    {
     "data": {
      "image/png": "[encoded data removed]",
      "text/plain": [
       "<Figure size 432x288 with 1 Axes>"
      ]
     },
     "metadata": {
      "needs_background": "light"
     },
     "output_type": "display_data"
    }
   ],
   "source": [
    "sns.boxplot(loan.funded_amnt_inv)\n",
    "plt.show()"
   ]
  },
  {
   "cell_type": "code",
   "execution_count": 219,
   "id": "923bb1dc",
   "metadata": {},
   "outputs": [],
   "source": [
    "#Analysed that there are no much outliers for funded_amnt_inv"
   ]
  },
  {
   "cell_type": "code",
   "execution_count": 220,
   "id": "be1af04e",
   "metadata": {},
   "outputs": [
    {
     "data": {
      "image/png": "[encoded data removed]",
      "text/plain": [
       "<Figure size 432x288 with 1 Axes>"
      ]
     },
     "metadata": {
      "needs_background": "light"
     },
     "output_type": "display_data"
    }
   ],
   "source": [
    "# Analyse loan amount\n",
    "plt.boxplot(loan.loan_amnt)\n",
    "plt.show()"
   ]
  },
  {
   "cell_type": "code",
   "execution_count": 221,
   "id": "dc5d728c",
   "metadata": {},
   "outputs": [
    {
     "name": "stdout",
     "output_type": "stream",
     "text": [
      "Max loan amount :  35000.0\n",
      "99 % loan amount :  35000.0\n"
     ]
    }
   ],
   "source": [
    "print('Max loan amount : ',loan.loan_amnt.max())\n",
    "print('99 % loan amount : ',loan.loan_amnt.quantile(.99))\n",
    "#We can't remove the outliers for loan amount as most the default loan may fall in this"
   ]
  },
  {
   "cell_type": "code",
   "execution_count": 222,
   "id": "9fd0e4f3",
   "metadata": {},
   "outputs": [
    {
     "data": {
      "image/png": "[encoded data removed]",
      "text/plain": [
       "<Figure size 432x288 with 1 Axes>"
      ]
     },
     "metadata": {
      "needs_background": "light"
     },
     "output_type": "display_data"
    }
   ],
   "source": [
    "# Analyse annual income\n",
    "plt.boxplot(loan.annual_inc)\n",
    "plt.show()"
   ]
  },
  {
   "cell_type": "code",
   "execution_count": 223,
   "id": "9e833eae",
   "metadata": {},
   "outputs": [
    {
     "name": "stdout",
     "output_type": "stream",
     "text": [
      "Max Annual Income :  6000000.0\n",
      "99 % Annual Income :  235000.0\n"
     ]
    },
    {
     "data": {
      "text/plain": [
       "(38642, 21)"
      ]
     },
     "execution_count": 223,
     "metadata": {},
     "output_type": "execute_result"
    }
   ],
   "source": [
    "#Clearly we can see outliers\n",
    "print('Max Annual Income : ',loan.annual_inc.max())\n",
    "print('99 % Annual Income : ',loan.annual_inc.quantile(.99))\n",
    "loan.shape"
   ]
  },
  {
   "cell_type": "code",
   "execution_count": 224,
   "id": "945d30c8",
   "metadata": {},
   "outputs": [
    {
     "data": {
      "text/plain": [
       "(38257, 21)"
      ]
     },
     "execution_count": 224,
     "metadata": {},
     "output_type": "execute_result"
    }
   ],
   "source": [
    "annual_income_99pct = loan.annual_inc.quantile(.99)\n",
    "loan = loan[loan.annual_inc<=annual_income_99pct]\n",
    "loan.shape"
   ]
  },
  {
   "cell_type": "code",
   "execution_count": 225,
   "id": "d82af626",
   "metadata": {},
   "outputs": [
    {
     "data": {
      "image/png": "[encoded data removed]",
      "text/plain": [
       "<Figure size 432x288 with 1 Axes>"
      ]
     },
     "metadata": {
      "needs_background": "light"
     },
     "output_type": "display_data"
    }
   ],
   "source": [
    "plt.boxplot(loan.annual_inc)\n",
    "plt.show()"
   ]
  },
  {
   "cell_type": "code",
   "execution_count": 226,
   "id": "2c7a64c2",
   "metadata": {},
   "outputs": [],
   "source": [
    "# Analysed the annual income and found that 99% has salary less than 235000, so removing those having annual income\n",
    "#falls above 99% "
   ]
  },
  {
   "cell_type": "markdown",
   "id": "92c069c3",
   "metadata": {},
   "source": [
    "# Analysis and visualization"
   ]
  },
  {
   "cell_type": "code",
   "execution_count": 227,
   "id": "78904530",
   "metadata": {},
   "outputs": [
    {
     "data": {
      "text/plain": [
       "Fully Paid     83.156024\n",
       "Charged Off    14.010508\n",
       "Current         2.833468\n",
       "Name: loan_status, dtype: float64"
      ]
     },
     "execution_count": 227,
     "metadata": {},
     "output_type": "execute_result"
    }
   ],
   "source": [
    "(loan.loan_status.value_counts(1)*100)"
   ]
  },
  {
   "cell_type": "code",
   "execution_count": 228,
   "id": "f0b7cb91",
   "metadata": {},
   "outputs": [
    {
     "data": {
      "image/png": "[encoded data removed]",
      "text/plain": [
       "<Figure size 432x288 with 1 Axes>"
      ]
     },
     "metadata": {},
     "output_type": "display_data"
    }
   ],
   "source": [
    "(loan.loan_status.value_counts(1)*100).plot(kind=\"pie\")\n",
    "plt.legend()\n",
    "plt.show()"
   ]
  },
  {
   "cell_type": "code",
   "execution_count": 229,
   "id": "51a3aa62",
   "metadata": {},
   "outputs": [],
   "source": [
    "# We can see that 14.01 % are default loans."
   ]
  },
  {
   "cell_type": "code",
   "execution_count": 230,
   "id": "c177ebae",
   "metadata": {},
   "outputs": [
    {
     "data": {
      "text/plain": [
       "<AxesSubplot:>"
      ]
     },
     "execution_count": 230,
     "metadata": {},
     "output_type": "execute_result"
    },
    {
     "data": {
      "image/png": "[encoded data removed]",
      "text/plain": [
       "<Figure size 432x288 with 1 Axes>"
      ]
     },
     "metadata": {
      "needs_background": "light"
     },
     "output_type": "display_data"
    }
   ],
   "source": [
    "(loan.purpose.value_counts(1)*100).plot(kind=\"bar\")"
   ]
  },
  {
   "cell_type": "code",
   "execution_count": 231,
   "id": "11cd38d9",
   "metadata": {},
   "outputs": [],
   "source": [
    "#Maximum loans are taken for the purpose of det_consolidation"
   ]
  },
  {
   "cell_type": "markdown",
   "id": "48b13984",
   "metadata": {},
   "source": [
    "# As We have analyse default loan's \"Current\" loan status can be removed"
   ]
  },
  {
   "cell_type": "code",
   "execution_count": 232,
   "id": "35936b4f",
   "metadata": {},
   "outputs": [
    {
     "data": {
      "text/plain": [
       "(37173, 21)"
      ]
     },
     "execution_count": 232,
     "metadata": {},
     "output_type": "execute_result"
    }
   ],
   "source": [
    "#We can drop rows having loan status as \"Current\" because they will not impact\n",
    "# default loan analysis and their % is very less which will not impact our observations\n",
    "loan = loan[loan.loan_status!=\"Current\"]\n",
    "loan.shape"
   ]
  },
  {
   "cell_type": "code",
   "execution_count": 233,
   "id": "65bc6ed9",
   "metadata": {},
   "outputs": [
    {
     "data": {
      "text/plain": [
       "Fully Paid     0.855809\n",
       "Charged Off    0.144191\n",
       "Name: loan_status, dtype: float64"
      ]
     },
     "execution_count": 233,
     "metadata": {},
     "output_type": "execute_result"
    }
   ],
   "source": [
    "loan.loan_status.value_counts(1)"
   ]
  },
  {
   "cell_type": "code",
   "execution_count": 234,
   "id": "bda10858",
   "metadata": {},
   "outputs": [],
   "source": [
    "# As we have only two types of loan status Fully Paid and Charged Off\n",
    "# We can treate them as 0 and 1 respectively\n",
    "loan[\"loan_status\"] = loan[\"loan_status\"].apply(lambda x:1 if x==\"Charged Off\" else 0)"
   ]
  },
  {
   "cell_type": "code",
   "execution_count": 235,
   "id": "ae355b32",
   "metadata": {},
   "outputs": [
    {
     "data": {
      "text/plain": [
       "0    0.855809\n",
       "1    0.144191\n",
       "Name: loan_status, dtype: float64"
      ]
     },
     "execution_count": 235,
     "metadata": {},
     "output_type": "execute_result"
    }
   ],
   "source": [
    "loan.loan_status.value_counts(1)"
   ]
  },
  {
   "cell_type": "markdown",
   "id": "95eeffff",
   "metadata": {},
   "source": [
    "# Assumption\n",
    "\n",
    "+ For default loan we have consider the <b>funded_amnt_inv</b> column as this is the final amount which is lend to the borrower by the lending company.\n"
   ]
  },
  {
   "cell_type": "markdown",
   "id": "a8f67150",
   "metadata": {},
   "source": [
    "# Univariate Analysis"
   ]
  },
  {
   "cell_type": "markdown",
   "id": "fcdf60f2",
   "metadata": {},
   "source": [
    "# interest rate"
   ]
  },
  {
   "cell_type": "code",
   "execution_count": 236,
   "id": "de30b7b7",
   "metadata": {},
   "outputs": [
    {
     "name": "stdout",
     "output_type": "stream",
     "text": [
      "24.4\n",
      "5.42\n"
     ]
    }
   ],
   "source": [
    "#Analyse interest rate\n",
    "print(np.max(loan.int_rate))\n",
    "print(np.min(loan.int_rate))\n"
   ]
  },
  {
   "cell_type": "code",
   "execution_count": 237,
   "id": "b8fba85a",
   "metadata": {},
   "outputs": [
    {
     "data": {
      "text/html": [
       "<div>\n",
       "<style scoped>\n",
       "    .dataframe tbody tr th:only-of-type {\n",
       "        vertical-align: middle;\n",
       "    }\n",
       "\n",
       "    .dataframe tbody tr th {\n",
       "        vertical-align: top;\n",
       "    }\n",
       "\n",
       "    .dataframe thead th {\n",
       "        text-align: right;\n",
       "    }\n",
       "</style>\n",
       "<table border=\"1\" class=\"dataframe\">\n",
       "  <thead>\n",
       "    <tr style=\"text-align: right;\">\n",
       "      <th></th>\n",
       "      <th>loan_amnt</th>\n",
       "      <th>funded_amnt</th>\n",
       "      <th>funded_amnt_inv</th>\n",
       "      <th>term</th>\n",
       "      <th>int_rate</th>\n",
       "      <th>installment</th>\n",
       "      <th>grade</th>\n",
       "      <th>sub_grade</th>\n",
       "      <th>emp_length</th>\n",
       "      <th>home_ownership</th>\n",
       "      <th>...</th>\n",
       "      <th>loan_status</th>\n",
       "      <th>purpose</th>\n",
       "      <th>zip_code</th>\n",
       "      <th>addr_state</th>\n",
       "      <th>dti</th>\n",
       "      <th>delinq_2yrs</th>\n",
       "      <th>delinq_amnt</th>\n",
       "      <th>issue_month</th>\n",
       "      <th>issue_year</th>\n",
       "      <th>int_rate_range</th>\n",
       "    </tr>\n",
       "  </thead>\n",
       "  <tbody>\n",
       "    <tr>\n",
       "      <th>0</th>\n",
       "      <td>5000.0</td>\n",
       "      <td>5000.0</td>\n",
       "      <td>4975.0</td>\n",
       "      <td>36</td>\n",
       "      <td>10.65</td>\n",
       "      <td>162.87</td>\n",
       "      <td>B</td>\n",
       "      <td>B2</td>\n",
       "      <td>10</td>\n",
       "      <td>RENT</td>\n",
       "      <td>...</td>\n",
       "      <td>0</td>\n",
       "      <td>credit_card</td>\n",
       "      <td>860xx</td>\n",
       "      <td>AZ</td>\n",
       "      <td>27.65</td>\n",
       "      <td>0</td>\n",
       "      <td>0</td>\n",
       "      <td>12</td>\n",
       "      <td>2011</td>\n",
       "      <td>8% - 11%</td>\n",
       "    </tr>\n",
       "    <tr>\n",
       "      <th>1</th>\n",
       "      <td>2500.0</td>\n",
       "      <td>2500.0</td>\n",
       "      <td>2500.0</td>\n",
       "      <td>60</td>\n",
       "      <td>15.27</td>\n",
       "      <td>59.83</td>\n",
       "      <td>C</td>\n",
       "      <td>C4</td>\n",
       "      <td>1</td>\n",
       "      <td>RENT</td>\n",
       "      <td>...</td>\n",
       "      <td>1</td>\n",
       "      <td>car</td>\n",
       "      <td>309xx</td>\n",
       "      <td>GA</td>\n",
       "      <td>1.00</td>\n",
       "      <td>0</td>\n",
       "      <td>0</td>\n",
       "      <td>12</td>\n",
       "      <td>2011</td>\n",
       "      <td>14% - 17%</td>\n",
       "    </tr>\n",
       "    <tr>\n",
       "      <th>2</th>\n",
       "      <td>2400.0</td>\n",
       "      <td>2400.0</td>\n",
       "      <td>2400.0</td>\n",
       "      <td>36</td>\n",
       "      <td>15.96</td>\n",
       "      <td>84.33</td>\n",
       "      <td>C</td>\n",
       "      <td>C5</td>\n",
       "      <td>10</td>\n",
       "      <td>RENT</td>\n",
       "      <td>...</td>\n",
       "      <td>0</td>\n",
       "      <td>small_business</td>\n",
       "      <td>606xx</td>\n",
       "      <td>IL</td>\n",
       "      <td>8.72</td>\n",
       "      <td>0</td>\n",
       "      <td>0</td>\n",
       "      <td>12</td>\n",
       "      <td>2011</td>\n",
       "      <td>14% - 17%</td>\n",
       "    </tr>\n",
       "    <tr>\n",
       "      <th>3</th>\n",
       "      <td>10000.0</td>\n",
       "      <td>10000.0</td>\n",
       "      <td>10000.0</td>\n",
       "      <td>36</td>\n",
       "      <td>13.49</td>\n",
       "      <td>339.31</td>\n",
       "      <td>C</td>\n",
       "      <td>C1</td>\n",
       "      <td>10</td>\n",
       "      <td>RENT</td>\n",
       "      <td>...</td>\n",
       "      <td>0</td>\n",
       "      <td>other</td>\n",
       "      <td>917xx</td>\n",
       "      <td>CA</td>\n",
       "      <td>20.00</td>\n",
       "      <td>0</td>\n",
       "      <td>0</td>\n",
       "      <td>12</td>\n",
       "      <td>2011</td>\n",
       "      <td>11% - 14%</td>\n",
       "    </tr>\n",
       "    <tr>\n",
       "      <th>5</th>\n",
       "      <td>5000.0</td>\n",
       "      <td>5000.0</td>\n",
       "      <td>5000.0</td>\n",
       "      <td>36</td>\n",
       "      <td>7.90</td>\n",
       "      <td>156.46</td>\n",
       "      <td>A</td>\n",
       "      <td>A4</td>\n",
       "      <td>3</td>\n",
       "      <td>RENT</td>\n",
       "      <td>...</td>\n",
       "      <td>0</td>\n",
       "      <td>wedding</td>\n",
       "      <td>852xx</td>\n",
       "      <td>AZ</td>\n",
       "      <td>11.20</td>\n",
       "      <td>0</td>\n",
       "      <td>0</td>\n",
       "      <td>12</td>\n",
       "      <td>2011</td>\n",
       "      <td>5% - 8%</td>\n",
       "    </tr>\n",
       "  </tbody>\n",
       "</table>\n",
       "<p>5 rows × 22 columns</p>\n",
       "</div>"
      ],
      "text/plain": [
       "   loan_amnt  funded_amnt  funded_amnt_inv  term  int_rate  installment grade  \\\n",
       "0     5000.0       5000.0           4975.0    36     10.65       162.87     B   \n",
       "1     2500.0       2500.0           2500.0    60     15.27        59.83     C   \n",
       "2     2400.0       2400.0           2400.0    36     15.96        84.33     C   \n",
       "3    10000.0      10000.0          10000.0    36     13.49       339.31     C   \n",
       "5     5000.0       5000.0           5000.0    36      7.90       156.46     A   \n",
       "\n",
       "  sub_grade  emp_length home_ownership  ...  loan_status         purpose  \\\n",
       "0        B2          10           RENT  ...            0     credit_card   \n",
       "1        C4           1           RENT  ...            1             car   \n",
       "2        C5          10           RENT  ...            0  small_business   \n",
       "3        C1          10           RENT  ...            0           other   \n",
       "5        A4           3           RENT  ...            0         wedding   \n",
       "\n",
       "   zip_code addr_state    dti delinq_2yrs  delinq_amnt issue_month issue_year  \\\n",
       "0     860xx         AZ  27.65           0            0          12       2011   \n",
       "1     309xx         GA   1.00           0            0          12       2011   \n",
       "2     606xx         IL   8.72           0            0          12       2011   \n",
       "3     917xx         CA  20.00           0            0          12       2011   \n",
       "5     852xx         AZ  11.20           0            0          12       2011   \n",
       "\n",
       "   int_rate_range  \n",
       "0        8% - 11%  \n",
       "1       14% - 17%  \n",
       "2       14% - 17%  \n",
       "3       11% - 14%  \n",
       "5         5% - 8%  \n",
       "\n",
       "[5 rows x 22 columns]"
      ]
     },
     "execution_count": 237,
     "metadata": {},
     "output_type": "execute_result"
    }
   ],
   "source": [
    "int_rate_bins = list(range(5,27,3))\n",
    "int_rate_labels = [\"5% - 8%\",\"8% - 11%\",\"11% - 14%\",\"14% - 17%\",\"17% - 20%\",\"20% - 23%\",\"23% - 26%\"]\n",
    "loan[\"int_rate_range\"] = pd.cut(loan['int_rate'],int_rate_bins,labels=int_rate_labels)\n",
    "loan.head()"
   ]
  },
  {
   "cell_type": "code",
   "execution_count": 238,
   "id": "0aaa0588",
   "metadata": {},
   "outputs": [
    {
     "data": {
      "text/plain": [
       "<AxesSubplot:xlabel='int_rate_range'>"
      ]
     },
     "execution_count": 238,
     "metadata": {},
     "output_type": "execute_result"
    },
    {
     "data": {
      "image/png": "[encoded data removed]",
      "text/plain": [
       "<Figure size 432x288 with 1 Axes>"
      ]
     },
     "metadata": {
      "needs_background": "light"
     },
     "output_type": "display_data"
    }
   ],
   "source": [
    "loan.groupby(\"int_rate_range\")[\"loan_status\"].mean().plot(kind=\"bar\")"
   ]
  },
  {
   "cell_type": "code",
   "execution_count": 239,
   "id": "5ec15392",
   "metadata": {},
   "outputs": [
    {
     "data": {
      "image/png": "[encoded data removed]",
      "text/plain": [
       "<Figure size 432x288 with 1 Axes>"
      ]
     },
     "metadata": {
      "needs_background": "light"
     },
     "output_type": "display_data"
    }
   ],
   "source": [
    "sns.barplot(x=\"int_rate_range\", y='loan_status', data=loan)\n",
    "plt.xticks(rotation=90)\n",
    "plt.show()"
   ]
  },
  {
   "cell_type": "code",
   "execution_count": 240,
   "id": "0df9cb26",
   "metadata": {},
   "outputs": [],
   "source": [
    "# We can see that with increase in interest rate, default rate increasing"
   ]
  },
  {
   "cell_type": "markdown",
   "id": "052af712",
   "metadata": {},
   "source": [
    "# funded_amnt_inv"
   ]
  },
  {
   "cell_type": "code",
   "execution_count": 241,
   "id": "9b2361f9",
   "metadata": {},
   "outputs": [
    {
     "name": "stdout",
     "output_type": "stream",
     "text": [
      "35000.0\n",
      "0.0\n"
     ]
    }
   ],
   "source": [
    "#Analyse funded_amnt_inv\n",
    "print(np.max(loan.funded_amnt_inv))\n",
    "print(np.min(loan.funded_amnt_inv))"
   ]
  },
  {
   "cell_type": "code",
   "execution_count": 242,
   "id": "8b636124",
   "metadata": {},
   "outputs": [
    {
     "data": {
      "text/plain": [
       "[0, 5000, 10000, 15000, 20000, 25000, 30000, 35000]"
      ]
     },
     "execution_count": 242,
     "metadata": {},
     "output_type": "execute_result"
    }
   ],
   "source": [
    "funded_amnt_bins = list(range(0,40000,5000))\n",
    "funded_amnt_bins"
   ]
  },
  {
   "cell_type": "code",
   "execution_count": 243,
   "id": "2f3947fc",
   "metadata": {},
   "outputs": [],
   "source": [
    "loan[\"funded_amnt_inv_range\"] = pd.cut(loan[\"funded_amnt_inv\"],bins=funded_amnt_bins,labels=[\"0-5k\",\"5k-10k\",\"10k-15k\",\"15k-20k\",\"20k-25k\",\"25k-30k\",\"30k-35k\"])"
   ]
  },
  {
   "cell_type": "code",
   "execution_count": 244,
   "id": "9bee5c13",
   "metadata": {},
   "outputs": [
    {
     "data": {
      "text/html": [
       "<div>\n",
       "<style scoped>\n",
       "    .dataframe tbody tr th:only-of-type {\n",
       "        vertical-align: middle;\n",
       "    }\n",
       "\n",
       "    .dataframe tbody tr th {\n",
       "        vertical-align: top;\n",
       "    }\n",
       "\n",
       "    .dataframe thead th {\n",
       "        text-align: right;\n",
       "    }\n",
       "</style>\n",
       "<table border=\"1\" class=\"dataframe\">\n",
       "  <thead>\n",
       "    <tr style=\"text-align: right;\">\n",
       "      <th></th>\n",
       "      <th>loan_amnt</th>\n",
       "      <th>funded_amnt</th>\n",
       "      <th>funded_amnt_inv</th>\n",
       "      <th>term</th>\n",
       "      <th>int_rate</th>\n",
       "      <th>installment</th>\n",
       "      <th>grade</th>\n",
       "      <th>sub_grade</th>\n",
       "      <th>emp_length</th>\n",
       "      <th>home_ownership</th>\n",
       "      <th>...</th>\n",
       "      <th>purpose</th>\n",
       "      <th>zip_code</th>\n",
       "      <th>addr_state</th>\n",
       "      <th>dti</th>\n",
       "      <th>delinq_2yrs</th>\n",
       "      <th>delinq_amnt</th>\n",
       "      <th>issue_month</th>\n",
       "      <th>issue_year</th>\n",
       "      <th>int_rate_range</th>\n",
       "      <th>funded_amnt_inv_range</th>\n",
       "    </tr>\n",
       "  </thead>\n",
       "  <tbody>\n",
       "    <tr>\n",
       "      <th>0</th>\n",
       "      <td>5000.0</td>\n",
       "      <td>5000.0</td>\n",
       "      <td>4975.0</td>\n",
       "      <td>36</td>\n",
       "      <td>10.65</td>\n",
       "      <td>162.87</td>\n",
       "      <td>B</td>\n",
       "      <td>B2</td>\n",
       "      <td>10</td>\n",
       "      <td>RENT</td>\n",
       "      <td>...</td>\n",
       "      <td>credit_card</td>\n",
       "      <td>860xx</td>\n",
       "      <td>AZ</td>\n",
       "      <td>27.65</td>\n",
       "      <td>0</td>\n",
       "      <td>0</td>\n",
       "      <td>12</td>\n",
       "      <td>2011</td>\n",
       "      <td>8% - 11%</td>\n",
       "      <td>0-5k</td>\n",
       "    </tr>\n",
       "    <tr>\n",
       "      <th>1</th>\n",
       "      <td>2500.0</td>\n",
       "      <td>2500.0</td>\n",
       "      <td>2500.0</td>\n",
       "      <td>60</td>\n",
       "      <td>15.27</td>\n",
       "      <td>59.83</td>\n",
       "      <td>C</td>\n",
       "      <td>C4</td>\n",
       "      <td>1</td>\n",
       "      <td>RENT</td>\n",
       "      <td>...</td>\n",
       "      <td>car</td>\n",
       "      <td>309xx</td>\n",
       "      <td>GA</td>\n",
       "      <td>1.00</td>\n",
       "      <td>0</td>\n",
       "      <td>0</td>\n",
       "      <td>12</td>\n",
       "      <td>2011</td>\n",
       "      <td>14% - 17%</td>\n",
       "      <td>0-5k</td>\n",
       "    </tr>\n",
       "    <tr>\n",
       "      <th>2</th>\n",
       "      <td>2400.0</td>\n",
       "      <td>2400.0</td>\n",
       "      <td>2400.0</td>\n",
       "      <td>36</td>\n",
       "      <td>15.96</td>\n",
       "      <td>84.33</td>\n",
       "      <td>C</td>\n",
       "      <td>C5</td>\n",
       "      <td>10</td>\n",
       "      <td>RENT</td>\n",
       "      <td>...</td>\n",
       "      <td>small_business</td>\n",
       "      <td>606xx</td>\n",
       "      <td>IL</td>\n",
       "      <td>8.72</td>\n",
       "      <td>0</td>\n",
       "      <td>0</td>\n",
       "      <td>12</td>\n",
       "      <td>2011</td>\n",
       "      <td>14% - 17%</td>\n",
       "      <td>0-5k</td>\n",
       "    </tr>\n",
       "    <tr>\n",
       "      <th>3</th>\n",
       "      <td>10000.0</td>\n",
       "      <td>10000.0</td>\n",
       "      <td>10000.0</td>\n",
       "      <td>36</td>\n",
       "      <td>13.49</td>\n",
       "      <td>339.31</td>\n",
       "      <td>C</td>\n",
       "      <td>C1</td>\n",
       "      <td>10</td>\n",
       "      <td>RENT</td>\n",
       "      <td>...</td>\n",
       "      <td>other</td>\n",
       "      <td>917xx</td>\n",
       "      <td>CA</td>\n",
       "      <td>20.00</td>\n",
       "      <td>0</td>\n",
       "      <td>0</td>\n",
       "      <td>12</td>\n",
       "      <td>2011</td>\n",
       "      <td>11% - 14%</td>\n",
       "      <td>5k-10k</td>\n",
       "    </tr>\n",
       "    <tr>\n",
       "      <th>5</th>\n",
       "      <td>5000.0</td>\n",
       "      <td>5000.0</td>\n",
       "      <td>5000.0</td>\n",
       "      <td>36</td>\n",
       "      <td>7.90</td>\n",
       "      <td>156.46</td>\n",
       "      <td>A</td>\n",
       "      <td>A4</td>\n",
       "      <td>3</td>\n",
       "      <td>RENT</td>\n",
       "      <td>...</td>\n",
       "      <td>wedding</td>\n",
       "      <td>852xx</td>\n",
       "      <td>AZ</td>\n",
       "      <td>11.20</td>\n",
       "      <td>0</td>\n",
       "      <td>0</td>\n",
       "      <td>12</td>\n",
       "      <td>2011</td>\n",
       "      <td>5% - 8%</td>\n",
       "      <td>0-5k</td>\n",
       "    </tr>\n",
       "  </tbody>\n",
       "</table>\n",
       "<p>5 rows × 23 columns</p>\n",
       "</div>"
      ],
      "text/plain": [
       "   loan_amnt  funded_amnt  funded_amnt_inv  term  int_rate  installment grade  \\\n",
       "0     5000.0       5000.0           4975.0    36     10.65       162.87     B   \n",
       "1     2500.0       2500.0           2500.0    60     15.27        59.83     C   \n",
       "2     2400.0       2400.0           2400.0    36     15.96        84.33     C   \n",
       "3    10000.0      10000.0          10000.0    36     13.49       339.31     C   \n",
       "5     5000.0       5000.0           5000.0    36      7.90       156.46     A   \n",
       "\n",
       "  sub_grade  emp_length home_ownership  ...         purpose zip_code  \\\n",
       "0        B2          10           RENT  ...     credit_card    860xx   \n",
       "1        C4           1           RENT  ...             car    309xx   \n",
       "2        C5          10           RENT  ...  small_business    606xx   \n",
       "3        C1          10           RENT  ...           other    917xx   \n",
       "5        A4           3           RENT  ...         wedding    852xx   \n",
       "\n",
       "   addr_state    dti delinq_2yrs delinq_amnt  issue_month issue_year  \\\n",
       "0          AZ  27.65           0           0           12       2011   \n",
       "1          GA   1.00           0           0           12       2011   \n",
       "2          IL   8.72           0           0           12       2011   \n",
       "3          CA  20.00           0           0           12       2011   \n",
       "5          AZ  11.20           0           0           12       2011   \n",
       "\n",
       "  int_rate_range  funded_amnt_inv_range  \n",
       "0       8% - 11%                   0-5k  \n",
       "1      14% - 17%                   0-5k  \n",
       "2      14% - 17%                   0-5k  \n",
       "3      11% - 14%                 5k-10k  \n",
       "5        5% - 8%                   0-5k  \n",
       "\n",
       "[5 rows x 23 columns]"
      ]
     },
     "execution_count": 244,
     "metadata": {},
     "output_type": "execute_result"
    }
   ],
   "source": [
    "loan.head()"
   ]
  },
  {
   "cell_type": "code",
   "execution_count": 245,
   "id": "1b6bec38",
   "metadata": {},
   "outputs": [
    {
     "data": {
      "image/png": "[encoded data removed]",
      "text/plain": [
       "<Figure size 432x288 with 1 Axes>"
      ]
     },
     "metadata": {
      "needs_background": "light"
     },
     "output_type": "display_data"
    }
   ],
   "source": [
    "sns.barplot(x=\"funded_amnt_inv_range\",y=\"loan_status\",data=loan)\n",
    "plt.xticks(rotation=90)\n",
    "plt.show()"
   ]
  },
  {
   "cell_type": "code",
   "execution_count": 246,
   "id": "60ed66f3",
   "metadata": {},
   "outputs": [],
   "source": [
    "# We can see that with increase in funded_amnt_inv , default loans increasing"
   ]
  },
  {
   "cell_type": "markdown",
   "id": "32522f0a",
   "metadata": {},
   "source": [
    "# term"
   ]
  },
  {
   "cell_type": "code",
   "execution_count": 247,
   "id": "4b6b4e52",
   "metadata": {},
   "outputs": [
    {
     "data": {
      "text/plain": [
       "36    75.37729\n",
       "60    24.62271\n",
       "Name: term, dtype: float64"
      ]
     },
     "execution_count": 247,
     "metadata": {},
     "output_type": "execute_result"
    }
   ],
   "source": [
    "#Analyse term\n",
    "loan.term.value_counts(1)*100"
   ]
  },
  {
   "cell_type": "code",
   "execution_count": 248,
   "id": "a6f3dc07",
   "metadata": {},
   "outputs": [],
   "source": [
    "# Only two type of terms are available 36 and 60"
   ]
  },
  {
   "cell_type": "code",
   "execution_count": 249,
   "id": "43030fc2",
   "metadata": {},
   "outputs": [
    {
     "data": {
      "text/plain": [
       "<AxesSubplot:xlabel='term'>"
      ]
     },
     "execution_count": 249,
     "metadata": {},
     "output_type": "execute_result"
    },
    {
     "data": {
      "image/png": "[encoded data removed]",
      "text/plain": [
       "<Figure size 432x288 with 1 Axes>"
      ]
     },
     "metadata": {
      "needs_background": "light"
     },
     "output_type": "display_data"
    }
   ],
   "source": [
    "loan.groupby(\"term\")[\"loan_status\"].mean().plot(kind=\"bar\")"
   ]
  },
  {
   "cell_type": "code",
   "execution_count": 250,
   "id": "8dd9e77e",
   "metadata": {},
   "outputs": [],
   "source": [
    "# We can see that with increase in terms defaulter increasing\n",
    "# 36 term has less defaults than 60 term"
   ]
  },
  {
   "cell_type": "markdown",
   "id": "22d6cdea",
   "metadata": {},
   "source": [
    "# Verification Status"
   ]
  },
  {
   "cell_type": "code",
   "execution_count": 251,
   "id": "bd7204d2",
   "metadata": {},
   "outputs": [
    {
     "name": "stdout",
     "output_type": "stream",
     "text": [
      "Not Verified       43.558497\n",
      "Verified           31.210825\n",
      "Source Verified    25.230678\n",
      "Name: verification_status, dtype: float64\n"
     ]
    },
    {
     "data": {
      "image/png": "[encoded data removed]",
      "text/plain": [
       "<Figure size 432x288 with 1 Axes>"
      ]
     },
     "metadata": {},
     "output_type": "display_data"
    }
   ],
   "source": [
    "# Analyse Verification Status\n",
    "print(loan.verification_status.value_counts(1)*100)\n",
    "(loan.verification_status.value_counts(1)*100).plot(kind=\"pie\")\n",
    "plt.show()"
   ]
  },
  {
   "cell_type": "code",
   "execution_count": 252,
   "id": "739378d7",
   "metadata": {},
   "outputs": [],
   "source": [
    "# we have three kinds of verification status \n",
    "#Not Verified       43.558497%\n",
    "#Verified           31.210825%\n",
    "#Source Verified    25.230678%"
   ]
  },
  {
   "cell_type": "code",
   "execution_count": 253,
   "id": "5bd13332",
   "metadata": {},
   "outputs": [
    {
     "data": {
      "image/png": "[encoded data removed]",
      "text/plain": [
       "<Figure size 432x288 with 1 Axes>"
      ]
     },
     "metadata": {
      "needs_background": "light"
     },
     "output_type": "display_data"
    }
   ],
   "source": [
    "sns.barplot(x=\"verification_status\",y=\"loan_status\",data=loan)\n",
    "plt.show()"
   ]
  },
  {
   "cell_type": "code",
   "execution_count": 254,
   "id": "c086deb7",
   "metadata": {},
   "outputs": [],
   "source": [
    "# We can't infer much information from verification status, <Most default loans are from Verified status>"
   ]
  },
  {
   "cell_type": "markdown",
   "id": "add65713",
   "metadata": {},
   "source": [
    "# emp_length"
   ]
  },
  {
   "cell_type": "code",
   "execution_count": 255,
   "id": "8b55219f",
   "metadata": {},
   "outputs": [
    {
     "name": "stdout",
     "output_type": "stream",
     "text": [
      "10\n",
      "1\n",
      "[0, 2, 4, 6, 8, 10]\n"
     ]
    }
   ],
   "source": [
    "# Analyse emp_length\n",
    "print(np.max(loan.emp_length))\n",
    "print(np.min(loan.emp_length))\n",
    "emp_length_bins = list(range(0,11,2))\n",
    "print(emp_length_bins)\n",
    "emp_length_labels=[\"0-2 year\",\"2-4 year\",\"4-6 year\",\"6-8 year\",\"8-10+ year\"]"
   ]
  },
  {
   "cell_type": "code",
   "execution_count": 256,
   "id": "7a9a2089",
   "metadata": {},
   "outputs": [],
   "source": [
    "loan[\"emp_length_range\"] = pd.cut(loan[\"emp_length\"],bins=emp_length_bins,labels=emp_length_labels)"
   ]
  },
  {
   "cell_type": "code",
   "execution_count": 257,
   "id": "09c034df",
   "metadata": {},
   "outputs": [
    {
     "data": {
      "text/html": [
       "<div>\n",
       "<style scoped>\n",
       "    .dataframe tbody tr th:only-of-type {\n",
       "        vertical-align: middle;\n",
       "    }\n",
       "\n",
       "    .dataframe tbody tr th {\n",
       "        vertical-align: top;\n",
       "    }\n",
       "\n",
       "    .dataframe thead th {\n",
       "        text-align: right;\n",
       "    }\n",
       "</style>\n",
       "<table border=\"1\" class=\"dataframe\">\n",
       "  <thead>\n",
       "    <tr style=\"text-align: right;\">\n",
       "      <th></th>\n",
       "      <th>loan_amnt</th>\n",
       "      <th>funded_amnt</th>\n",
       "      <th>funded_amnt_inv</th>\n",
       "      <th>term</th>\n",
       "      <th>int_rate</th>\n",
       "      <th>installment</th>\n",
       "      <th>grade</th>\n",
       "      <th>sub_grade</th>\n",
       "      <th>emp_length</th>\n",
       "      <th>home_ownership</th>\n",
       "      <th>...</th>\n",
       "      <th>zip_code</th>\n",
       "      <th>addr_state</th>\n",
       "      <th>dti</th>\n",
       "      <th>delinq_2yrs</th>\n",
       "      <th>delinq_amnt</th>\n",
       "      <th>issue_month</th>\n",
       "      <th>issue_year</th>\n",
       "      <th>int_rate_range</th>\n",
       "      <th>funded_amnt_inv_range</th>\n",
       "      <th>emp_length_range</th>\n",
       "    </tr>\n",
       "  </thead>\n",
       "  <tbody>\n",
       "    <tr>\n",
       "      <th>0</th>\n",
       "      <td>5000.0</td>\n",
       "      <td>5000.0</td>\n",
       "      <td>4975.0</td>\n",
       "      <td>36</td>\n",
       "      <td>10.65</td>\n",
       "      <td>162.87</td>\n",
       "      <td>B</td>\n",
       "      <td>B2</td>\n",
       "      <td>10</td>\n",
       "      <td>RENT</td>\n",
       "      <td>...</td>\n",
       "      <td>860xx</td>\n",
       "      <td>AZ</td>\n",
       "      <td>27.65</td>\n",
       "      <td>0</td>\n",
       "      <td>0</td>\n",
       "      <td>12</td>\n",
       "      <td>2011</td>\n",
       "      <td>8% - 11%</td>\n",
       "      <td>0-5k</td>\n",
       "      <td>8-10+ year</td>\n",
       "    </tr>\n",
       "    <tr>\n",
       "      <th>1</th>\n",
       "      <td>2500.0</td>\n",
       "      <td>2500.0</td>\n",
       "      <td>2500.0</td>\n",
       "      <td>60</td>\n",
       "      <td>15.27</td>\n",
       "      <td>59.83</td>\n",
       "      <td>C</td>\n",
       "      <td>C4</td>\n",
       "      <td>1</td>\n",
       "      <td>RENT</td>\n",
       "      <td>...</td>\n",
       "      <td>309xx</td>\n",
       "      <td>GA</td>\n",
       "      <td>1.00</td>\n",
       "      <td>0</td>\n",
       "      <td>0</td>\n",
       "      <td>12</td>\n",
       "      <td>2011</td>\n",
       "      <td>14% - 17%</td>\n",
       "      <td>0-5k</td>\n",
       "      <td>0-2 year</td>\n",
       "    </tr>\n",
       "    <tr>\n",
       "      <th>2</th>\n",
       "      <td>2400.0</td>\n",
       "      <td>2400.0</td>\n",
       "      <td>2400.0</td>\n",
       "      <td>36</td>\n",
       "      <td>15.96</td>\n",
       "      <td>84.33</td>\n",
       "      <td>C</td>\n",
       "      <td>C5</td>\n",
       "      <td>10</td>\n",
       "      <td>RENT</td>\n",
       "      <td>...</td>\n",
       "      <td>606xx</td>\n",
       "      <td>IL</td>\n",
       "      <td>8.72</td>\n",
       "      <td>0</td>\n",
       "      <td>0</td>\n",
       "      <td>12</td>\n",
       "      <td>2011</td>\n",
       "      <td>14% - 17%</td>\n",
       "      <td>0-5k</td>\n",
       "      <td>8-10+ year</td>\n",
       "    </tr>\n",
       "    <tr>\n",
       "      <th>3</th>\n",
       "      <td>10000.0</td>\n",
       "      <td>10000.0</td>\n",
       "      <td>10000.0</td>\n",
       "      <td>36</td>\n",
       "      <td>13.49</td>\n",
       "      <td>339.31</td>\n",
       "      <td>C</td>\n",
       "      <td>C1</td>\n",
       "      <td>10</td>\n",
       "      <td>RENT</td>\n",
       "      <td>...</td>\n",
       "      <td>917xx</td>\n",
       "      <td>CA</td>\n",
       "      <td>20.00</td>\n",
       "      <td>0</td>\n",
       "      <td>0</td>\n",
       "      <td>12</td>\n",
       "      <td>2011</td>\n",
       "      <td>11% - 14%</td>\n",
       "      <td>5k-10k</td>\n",
       "      <td>8-10+ year</td>\n",
       "    </tr>\n",
       "    <tr>\n",
       "      <th>5</th>\n",
       "      <td>5000.0</td>\n",
       "      <td>5000.0</td>\n",
       "      <td>5000.0</td>\n",
       "      <td>36</td>\n",
       "      <td>7.90</td>\n",
       "      <td>156.46</td>\n",
       "      <td>A</td>\n",
       "      <td>A4</td>\n",
       "      <td>3</td>\n",
       "      <td>RENT</td>\n",
       "      <td>...</td>\n",
       "      <td>852xx</td>\n",
       "      <td>AZ</td>\n",
       "      <td>11.20</td>\n",
       "      <td>0</td>\n",
       "      <td>0</td>\n",
       "      <td>12</td>\n",
       "      <td>2011</td>\n",
       "      <td>5% - 8%</td>\n",
       "      <td>0-5k</td>\n",
       "      <td>2-4 year</td>\n",
       "    </tr>\n",
       "  </tbody>\n",
       "</table>\n",
       "<p>5 rows × 24 columns</p>\n",
       "</div>"
      ],
      "text/plain": [
       "   loan_amnt  funded_amnt  funded_amnt_inv  term  int_rate  installment grade  \\\n",
       "0     5000.0       5000.0           4975.0    36     10.65       162.87     B   \n",
       "1     2500.0       2500.0           2500.0    60     15.27        59.83     C   \n",
       "2     2400.0       2400.0           2400.0    36     15.96        84.33     C   \n",
       "3    10000.0      10000.0          10000.0    36     13.49       339.31     C   \n",
       "5     5000.0       5000.0           5000.0    36      7.90       156.46     A   \n",
       "\n",
       "  sub_grade  emp_length home_ownership  ...  zip_code addr_state    dti  \\\n",
       "0        B2          10           RENT  ...     860xx         AZ  27.65   \n",
       "1        C4           1           RENT  ...     309xx         GA   1.00   \n",
       "2        C5          10           RENT  ...     606xx         IL   8.72   \n",
       "3        C1          10           RENT  ...     917xx         CA  20.00   \n",
       "5        A4           3           RENT  ...     852xx         AZ  11.20   \n",
       "\n",
       "  delinq_2yrs delinq_amnt issue_month  issue_year int_rate_range  \\\n",
       "0           0           0          12        2011       8% - 11%   \n",
       "1           0           0          12        2011      14% - 17%   \n",
       "2           0           0          12        2011      14% - 17%   \n",
       "3           0           0          12        2011      11% - 14%   \n",
       "5           0           0          12        2011        5% - 8%   \n",
       "\n",
       "  funded_amnt_inv_range  emp_length_range  \n",
       "0                  0-5k        8-10+ year  \n",
       "1                  0-5k          0-2 year  \n",
       "2                  0-5k        8-10+ year  \n",
       "3                5k-10k        8-10+ year  \n",
       "5                  0-5k          2-4 year  \n",
       "\n",
       "[5 rows x 24 columns]"
      ]
     },
     "execution_count": 257,
     "metadata": {},
     "output_type": "execute_result"
    }
   ],
   "source": [
    "loan.head()"
   ]
  },
  {
   "cell_type": "code",
   "execution_count": 258,
   "id": "4537e99d",
   "metadata": {},
   "outputs": [
    {
     "data": {
      "text/plain": [
       "<AxesSubplot:xlabel='emp_length_range'>"
      ]
     },
     "execution_count": 258,
     "metadata": {},
     "output_type": "execute_result"
    },
    {
     "data": {
      "image/png": "[encoded data removed]",
      "text/plain": [
       "<Figure size 432x288 with 1 Axes>"
      ]
     },
     "metadata": {
      "needs_background": "light"
     },
     "output_type": "display_data"
    }
   ],
   "source": [
    "(loan.groupby(\"emp_length_range\")[\"loan_status\"].mean()).plot(kind=\"bar\")"
   ]
  },
  {
   "cell_type": "code",
   "execution_count": 259,
   "id": "f25cf6f7",
   "metadata": {},
   "outputs": [
    {
     "data": {
      "text/plain": [
       "<AxesSubplot:xlabel='emp_length_range', ylabel='loan_status'>"
      ]
     },
     "execution_count": 259,
     "metadata": {},
     "output_type": "execute_result"
    },
    {
     "data": {
      "image/png": "[encoded data removed]",
      "text/plain": [
       "<Figure size 432x288 with 1 Axes>"
      ]
     },
     "metadata": {
      "needs_background": "light"
     },
     "output_type": "display_data"
    }
   ],
   "source": [
    "sns.barplot(x=\"emp_length_range\",y=\"loan_status\",data=loan)"
   ]
  },
  {
   "cell_type": "code",
   "execution_count": 260,
   "id": "96bf5fc9",
   "metadata": {},
   "outputs": [],
   "source": [
    "# We can see that it's almost constant and can't infer much from this"
   ]
  },
  {
   "cell_type": "markdown",
   "id": "eb560a41",
   "metadata": {},
   "source": [
    "# purpose"
   ]
  },
  {
   "cell_type": "code",
   "execution_count": 261,
   "id": "e6325fc9",
   "metadata": {},
   "outputs": [
    {
     "data": {
      "text/plain": [
       "debt_consolidation    47.184785\n",
       "credit_card           13.079386\n",
       "other                  9.902348\n",
       "home_improvement       7.282167\n",
       "major_purchase         5.541657\n",
       "small_business         4.522099\n",
       "car                    3.876469\n",
       "wedding                2.434563\n",
       "medical                1.745891\n",
       "moving                 1.468808\n",
       "vacation               0.936163\n",
       "house                  0.928093\n",
       "educational            0.850079\n",
       "renewable_energy       0.247491\n",
       "Name: purpose, dtype: float64"
      ]
     },
     "execution_count": 261,
     "metadata": {},
     "output_type": "execute_result"
    }
   ],
   "source": [
    "# Analyse purpose\n",
    "loan.purpose.value_counts(1)*100"
   ]
  },
  {
   "cell_type": "code",
   "execution_count": 262,
   "id": "73e63bc2",
   "metadata": {},
   "outputs": [
    {
     "data": {
      "text/plain": [
       "purpose\n",
       "car                   10.756419\n",
       "credit_card           10.407240\n",
       "debt_consolidation    15.193843\n",
       "educational           16.455696\n",
       "home_improvement      11.858146\n",
       "house                 16.811594\n",
       "major_purchase        10.145631\n",
       "medical               15.562404\n",
       "moving                15.201465\n",
       "other                 16.082586\n",
       "renewable_energy      19.565217\n",
       "small_business        27.305175\n",
       "vacation              14.367816\n",
       "wedding               10.055249\n",
       "Name: loan_status, dtype: float64"
      ]
     },
     "execution_count": 262,
     "metadata": {},
     "output_type": "execute_result"
    }
   ],
   "source": [
    "loan.groupby(\"purpose\")[\"loan_status\"].mean()*100"
   ]
  },
  {
   "cell_type": "code",
   "execution_count": 263,
   "id": "cb8dc001",
   "metadata": {},
   "outputs": [
    {
     "data": {
      "text/plain": [
       "<AxesSubplot:ylabel='loan_status'>"
      ]
     },
     "execution_count": 263,
     "metadata": {},
     "output_type": "execute_result"
    },
    {
     "data": {
      "image/png": "[encoded data removed]",
      "text/plain": [
       "<Figure size 1440x720 with 1 Axes>"
      ]
     },
     "metadata": {},
     "output_type": "display_data"
    }
   ],
   "source": [
    "plt.figure(figsize=[20,10])\n",
    "(loan.groupby(\"purpose\")[\"loan_status\"].mean()*100).plot(kind=\"pie\")"
   ]
  },
  {
   "cell_type": "code",
   "execution_count": 264,
   "id": "3f11f8c8",
   "metadata": {},
   "outputs": [
    {
     "data": {
      "image/png": "[encoded data removed]",
      "text/plain": [
       "<Figure size 1440x720 with 1 Axes>"
      ]
     },
     "metadata": {
      "needs_background": "light"
     },
     "output_type": "display_data"
    }
   ],
   "source": [
    "plt.figure(figsize=[20,10])\n",
    "sns.barplot(x=\"purpose\",y=\"loan_status\",data=loan)\n",
    "plt.xticks(rotation=90)\n",
    "plt.show()"
   ]
  },
  {
   "cell_type": "code",
   "execution_count": 265,
   "id": "6212c938",
   "metadata": {},
   "outputs": [],
   "source": [
    "# We can see that most of the types have same rate of default except small_business"
   ]
  },
  {
   "cell_type": "markdown",
   "id": "2f5b8ac2",
   "metadata": {},
   "source": [
    "# annual_inc"
   ]
  },
  {
   "cell_type": "code",
   "execution_count": 266,
   "id": "80233bce",
   "metadata": {},
   "outputs": [
    {
     "name": "stdout",
     "output_type": "stream",
     "text": [
      "235000.0\n",
      "4000.0\n",
      "[4000, 34000, 64000, 94000, 124000, 154000, 184000, 214000, 244000]\n"
     ]
    }
   ],
   "source": [
    "# Analyse annual_inc\n",
    "print(np.max(loan.annual_inc))\n",
    "print(np.min(loan.annual_inc))\n",
    "annual_inc_bins = list(range(4000,250000,30000))\n",
    "print(annual_inc_bins)"
   ]
  },
  {
   "cell_type": "code",
   "execution_count": 267,
   "id": "5a9f17c4",
   "metadata": {},
   "outputs": [],
   "source": [
    "loan[\"annual_inc_range\"] = pd.cut(loan[\"annual_inc\"],bins=8,labels=[\"4k-34k\",\"34k-64k\",\"64k-94k\",\"94k-124k\",\"124k-154k\",\"154k-184k\",\"184k-214k\",\"214k-244k\"])"
   ]
  },
  {
   "cell_type": "code",
   "execution_count": 268,
   "id": "6554e390",
   "metadata": {},
   "outputs": [
    {
     "data": {
      "text/plain": [
       "<AxesSubplot:xlabel='annual_inc_range'>"
      ]
     },
     "execution_count": 268,
     "metadata": {},
     "output_type": "execute_result"
    },
    {
     "data": {
      "image/png": "[encoded data removed]",
      "text/plain": [
       "<Figure size 432x288 with 1 Axes>"
      ]
     },
     "metadata": {
      "needs_background": "light"
     },
     "output_type": "display_data"
    }
   ],
   "source": [
    "(loan.groupby(\"annual_inc_range\")[\"loan_status\"].mean()*100).plot(kind=\"bar\")"
   ]
  },
  {
   "cell_type": "code",
   "execution_count": 269,
   "id": "f9c6091e",
   "metadata": {},
   "outputs": [],
   "source": [
    "# We can observe that that with increase in annual income, default loan decrease"
   ]
  },
  {
   "cell_type": "markdown",
   "id": "bca9e5b6",
   "metadata": {},
   "source": [
    "# homw_ownership"
   ]
  },
  {
   "cell_type": "code",
   "execution_count": 270,
   "id": "451281fa",
   "metadata": {},
   "outputs": [
    {
     "name": "stdout",
     "output_type": "stream",
     "text": [
      "RENT        48.419552\n",
      "MORTGAGE    43.932424\n",
      "OWN          7.381702\n",
      "OTHER        0.258252\n",
      "NONE         0.008070\n",
      "Name: home_ownership, dtype: float64\n"
     ]
    }
   ],
   "source": [
    "# Analyse homw_ownership\n",
    "print(loan.home_ownership.value_counts(1)*100)"
   ]
  },
  {
   "cell_type": "code",
   "execution_count": 271,
   "id": "8faf11cf",
   "metadata": {},
   "outputs": [],
   "source": [
    "#RENT        48.419552\n",
    "#MORTGAGE    43.932424\n",
    "#OWN          7.381702\n",
    "#OTHER        0.258252\n",
    "#NONE         0.008070\n",
    "\n",
    "# We can fill rows having NONE values with OTHER as their precentage is very low\n",
    "loan[\"home_ownership\"] = loan[\"home_ownership\"].apply(lambda x: \"OTHER\" if x == \"NONE\" else x)"
   ]
  },
  {
   "cell_type": "code",
   "execution_count": 272,
   "id": "282eb5c9",
   "metadata": {},
   "outputs": [
    {
     "data": {
      "text/plain": [
       "<AxesSubplot:xlabel='home_ownership'>"
      ]
     },
     "execution_count": 272,
     "metadata": {},
     "output_type": "execute_result"
    },
    {
     "data": {
      "image/png": "[encoded data removed]",
      "text/plain": [
       "<Figure size 432x288 with 1 Axes>"
      ]
     },
     "metadata": {
      "needs_background": "light"
     },
     "output_type": "display_data"
    }
   ],
   "source": [
    "(loan.groupby(\"home_ownership\")[\"loan_status\"].mean()*100).plot(kind=\"bar\")"
   ]
  },
  {
   "cell_type": "code",
   "execution_count": 273,
   "id": "d1f5ba0e",
   "metadata": {},
   "outputs": [],
   "source": [
    "# We can see that default loans constant for OWN/RENT/MORTGAGE but more are in OTHER\n",
    "# Can't infer anything from this"
   ]
  },
  {
   "cell_type": "markdown",
   "id": "8d695a3b",
   "metadata": {},
   "source": [
    "# grade"
   ]
  },
  {
   "cell_type": "code",
   "execution_count": 274,
   "id": "29905a02",
   "metadata": {},
   "outputs": [
    {
     "data": {
      "text/plain": [
       "dtype('O')"
      ]
     },
     "execution_count": 274,
     "metadata": {},
     "output_type": "execute_result"
    }
   ],
   "source": [
    "# Analyse grade\n",
    "loan.grade.dtype"
   ]
  },
  {
   "cell_type": "code",
   "execution_count": 275,
   "id": "5c388660",
   "metadata": {},
   "outputs": [
    {
     "name": "stdout",
     "output_type": "stream",
     "text": [
      "grade\n",
      "A     5.806317\n",
      "B    11.936457\n",
      "C    16.897142\n",
      "D    21.933387\n",
      "E    26.858700\n",
      "F    32.729211\n",
      "G    34.027778\n",
      "Name: loan_status, dtype: float64\n"
     ]
    }
   ],
   "source": [
    "print(loan.groupby(\"grade\")[\"loan_status\"].mean()*100)"
   ]
  },
  {
   "cell_type": "code",
   "execution_count": 276,
   "id": "ce035bef",
   "metadata": {},
   "outputs": [
    {
     "data": {
      "text/plain": [
       "<AxesSubplot:xlabel='grade'>"
      ]
     },
     "execution_count": 276,
     "metadata": {},
     "output_type": "execute_result"
    },
    {
     "data": {
      "image/png": "[encoded data removed]",
      "text/plain": [
       "<Figure size 432x288 with 1 Axes>"
      ]
     },
     "metadata": {
      "needs_background": "light"
     },
     "output_type": "display_data"
    }
   ],
   "source": [
    "(loan.groupby(\"grade\")[\"loan_status\"].mean()*100).plot(kind=\"bar\")"
   ]
  },
  {
   "cell_type": "code",
   "execution_count": 277,
   "id": "d9fb40ae",
   "metadata": {},
   "outputs": [
    {
     "data": {
      "text/plain": [
       "2    11268\n",
       "1     9593\n",
       "3     7593\n",
       "4     4924\n",
       "5     2569\n",
       "6      938\n",
       "7      288\n",
       "Name: grade, dtype: int64"
      ]
     },
     "execution_count": 277,
     "metadata": {},
     "output_type": "execute_result"
    }
   ],
   "source": [
    "# We can devide the gardes in sub group like \n",
    "#A-C- High\n",
    "#D-E Mid\n",
    "# F-G Low\n",
    "# Convert them to number grading like A-1,B-2,C-3,D-4,E-5,F-6,G-7\n",
    "def grade_con(x):\n",
    "    if x== \"A\":\n",
    "        return 1\n",
    "    if x==\"B\":\n",
    "        return 2\n",
    "    if x==\"C\":\n",
    "        return 3\n",
    "    if x==\"D\":\n",
    "        return 4\n",
    "    if x==\"E\":\n",
    "        return 5\n",
    "    if x== \"F\":\n",
    "        return 6\n",
    "    if x==\"G\":\n",
    "        return 7\n",
    "      \n",
    "loan.grade.value_counts()        \n",
    "loan[\"grade\"]=loan.grade.apply(lambda x:grade_con(x))    \n",
    "loan.grade.value_counts()"
   ]
  },
  {
   "cell_type": "code",
   "execution_count": 278,
   "id": "0e37503f",
   "metadata": {},
   "outputs": [],
   "source": [
    "grade_bins = list(range(1,8,2))\n",
    "grade_bins\n",
    "loan[\"grade_range\"] = pd.cut(loan[\"grade\"],bins=grade_bins,labels=[\"1-3\",\"3-5\",\"5-7\"])"
   ]
  },
  {
   "cell_type": "code",
   "execution_count": 279,
   "id": "4551d9a1",
   "metadata": {},
   "outputs": [
    {
     "data": {
      "text/plain": [
       "<AxesSubplot:xlabel='grade_range'>"
      ]
     },
     "execution_count": 279,
     "metadata": {},
     "output_type": "execute_result"
    },
    {
     "data": {
      "image/png": "[encoded data removed]",
      "text/plain": [
       "<Figure size 432x288 with 1 Axes>"
      ]
     },
     "metadata": {
      "needs_background": "light"
     },
     "output_type": "display_data"
    }
   ],
   "source": [
    "(loan.groupby(\"grade_range\")[\"loan_status\"].mean()*100).plot(kind=\"bar\")"
   ]
  },
  {
   "cell_type": "code",
   "execution_count": 280,
   "id": "165a0fe0",
   "metadata": {},
   "outputs": [],
   "source": [
    "# We can see that with increase in grade , default loans are increasing "
   ]
  },
  {
   "cell_type": "markdown",
   "id": "cdd77cbd",
   "metadata": {},
   "source": [
    "# subgrade"
   ]
  },
  {
   "cell_type": "code",
   "execution_count": 281,
   "id": "5b541bb5",
   "metadata": {},
   "outputs": [
    {
     "name": "stdout",
     "output_type": "stream",
     "text": [
      "object\n",
      "sub_grade\n",
      "A1     2.296651\n",
      "A2     4.748603\n",
      "A3     5.202312\n",
      "A4     6.058420\n",
      "A5     7.921929\n",
      "B1     8.942139\n",
      "B2    10.822060\n",
      "B3    11.823204\n",
      "B4    13.341751\n",
      "B5    13.600629\n",
      "C1    15.905670\n",
      "C2    16.303771\n",
      "C3    17.929117\n",
      "C4    17.279726\n",
      "C5    17.944094\n",
      "D1    17.951542\n",
      "D2    20.984665\n",
      "D3    22.841226\n",
      "D4    23.128492\n",
      "D5    25.341615\n",
      "E1    27.104137\n",
      "E2    26.800670\n",
      "E3    22.920892\n",
      "E4    29.951691\n",
      "E5    28.296703\n",
      "F1    29.391892\n",
      "F2    29.646018\n",
      "F3    29.518072\n",
      "F4    35.862069\n",
      "F5    49.523810\n",
      "G1    32.967033\n",
      "G2    36.486486\n",
      "G3    43.181818\n",
      "G4    23.529412\n",
      "G5    35.714286\n",
      "Name: loan_status, dtype: float64\n"
     ]
    }
   ],
   "source": [
    "# Analyse subgrade\n",
    "print(loan.sub_grade.dtype)\n",
    "print(loan.groupby(\"sub_grade\")[\"loan_status\"].mean()*100)"
   ]
  },
  {
   "cell_type": "code",
   "execution_count": 282,
   "id": "eb9b9be6",
   "metadata": {},
   "outputs": [
    {
     "data": {
      "text/plain": [
       "<AxesSubplot:xlabel='grade,sub_grade'>"
      ]
     },
     "execution_count": 282,
     "metadata": {},
     "output_type": "execute_result"
    },
    {
     "data": {
      "image/png": "[encoded data removed]",
      "text/plain": [
       "<Figure size 1440x720 with 1 Axes>"
      ]
     },
     "metadata": {
      "needs_background": "light"
     },
     "output_type": "display_data"
    }
   ],
   "source": [
    "plt.figure(figsize=[20,10])\n",
    "loan.groupby(['grade','sub_grade'])['loan_status'].mean().plot(kind='bar')"
   ]
  },
  {
   "cell_type": "code",
   "execution_count": 283,
   "id": "dbb76a1f",
   "metadata": {},
   "outputs": [],
   "source": [
    "# We can see in subgrade as well there is increse in default loans with increase in grade"
   ]
  },
  {
   "cell_type": "markdown",
   "id": "feefdcfe",
   "metadata": {},
   "source": [
    "# installment"
   ]
  },
  {
   "cell_type": "code",
   "execution_count": 284,
   "id": "4da3bb0d",
   "metadata": {},
   "outputs": [
    {
     "name": "stdout",
     "output_type": "stream",
     "text": [
      "1305.19\n",
      "15.69\n"
     ]
    },
    {
     "data": {
      "text/plain": [
       "[15, 230, 445, 660, 875, 1090, 1305]"
      ]
     },
     "execution_count": 284,
     "metadata": {},
     "output_type": "execute_result"
    }
   ],
   "source": [
    "# Analyse installment\n",
    "print(np.max(loan.installment))\n",
    "print(np.min(loan.installment))\n",
    "installment_bins=list(range(15,1500,215))\n",
    "installment_bins"
   ]
  },
  {
   "cell_type": "code",
   "execution_count": 285,
   "id": "caefd74c",
   "metadata": {},
   "outputs": [],
   "source": [
    "loan[\"installment_range\"]=pd.cut(loan[\"installment\"],bins=installment_bins,labels=[\"15-230\",\"230-445\",\"445-660\",\"660-875\",\"875-1090\",\"1090-1305\"])\n"
   ]
  },
  {
   "cell_type": "code",
   "execution_count": 286,
   "id": "d3f02bdd",
   "metadata": {},
   "outputs": [
    {
     "data": {
      "text/plain": [
       "<AxesSubplot:xlabel='installment_range'>"
      ]
     },
     "execution_count": 286,
     "metadata": {},
     "output_type": "execute_result"
    },
    {
     "data": {
      "image/png": "[encoded data removed]",
      "text/plain": [
       "<Figure size 432x288 with 1 Axes>"
      ]
     },
     "metadata": {
      "needs_background": "light"
     },
     "output_type": "display_data"
    }
   ],
   "source": [
    "(loan.groupby(\"installment_range\")[\"loan_status\"].mean()*100).plot(kind=\"bar\")"
   ]
  },
  {
   "cell_type": "code",
   "execution_count": 287,
   "id": "c99bee6f",
   "metadata": {},
   "outputs": [],
   "source": [
    "# We can see the defult rates are increasing ,with increase in installment amount"
   ]
  },
  {
   "cell_type": "markdown",
   "id": "84106a5e",
   "metadata": {},
   "source": [
    "# issue_year"
   ]
  },
  {
   "cell_type": "code",
   "execution_count": 288,
   "id": "32bcbfb0",
   "metadata": {},
   "outputs": [
    {
     "data": {
      "text/plain": [
       "<AxesSubplot:xlabel='issue_year'>"
      ]
     },
     "execution_count": 288,
     "metadata": {},
     "output_type": "execute_result"
    },
    {
     "data": {
      "image/png": "[encoded data removed]",
      "text/plain": [
       "<Figure size 432x288 with 1 Axes>"
      ]
     },
     "metadata": {
      "needs_background": "light"
     },
     "output_type": "display_data"
    }
   ],
   "source": [
    "# Analyse year\n",
    "\n",
    "(loan.groupby(\"issue_year\")[\"loan_status\"].mean()*100).plot(kind=\"bar\")"
   ]
  },
  {
   "cell_type": "code",
   "execution_count": 289,
   "id": "76fd3caf",
   "metadata": {},
   "outputs": [
    {
     "data": {
      "text/plain": [
       "2011    19608\n",
       "2010    11101\n",
       "2009     4665\n",
       "2008     1552\n",
       "2007      247\n",
       "Name: issue_year, dtype: int64"
      ]
     },
     "execution_count": 289,
     "metadata": {},
     "output_type": "execute_result"
    }
   ],
   "source": [
    "loan.issue_year.value_counts()"
   ]
  },
  {
   "cell_type": "code",
   "execution_count": 295,
   "id": "6277bc93",
   "metadata": {},
   "outputs": [
    {
     "data": {
      "text/plain": [
       "(array([  247.,     0.,  1552.,     0.,     0.,  4665.,     0., 11101.,\n",
       "            0., 19608.]),\n",
       " array([2007. , 2007.4, 2007.8, 2008.2, 2008.6, 2009. , 2009.4, 2009.8,\n",
       "        2010.2, 2010.6, 2011. ]),\n",
       " <BarContainer object of 10 artists>)"
      ]
     },
     "execution_count": 295,
     "metadata": {},
     "output_type": "execute_result"
    },
    {
     "data": {
      "image/png": "[encoded data removed]",
      "text/plain": [
       "<Figure size 432x288 with 1 Axes>"
      ]
     },
     "metadata": {
      "needs_background": "light"
     },
     "output_type": "display_data"
    }
   ],
   "source": [
    "plt.hist(loan.issue_year)"
   ]
  },
  {
   "cell_type": "code",
   "execution_count": 291,
   "id": "42bb89cb",
   "metadata": {},
   "outputs": [],
   "source": [
    "# We can see that during economic downfalt lending organization reduced providing number of loans to borrowers"
   ]
  },
  {
   "cell_type": "markdown",
   "id": "1d8b822a",
   "metadata": {},
   "source": [
    "# issue_month"
   ]
  },
  {
   "cell_type": "code",
   "execution_count": 296,
   "id": "fb7c6335",
   "metadata": {},
   "outputs": [
    {
     "data": {
      "image/png": "[encoded data removed]",
      "text/plain": [
       "<Figure size 432x288 with 1 Axes>"
      ]
     },
     "metadata": {
      "needs_background": "light"
     },
     "output_type": "display_data"
    }
   ],
   "source": [
    "#analyse month\n",
    "sns.barplot(x=\"issue_month\",y=\"loan_status\",data=loan)\n",
    "plt.show()"
   ]
  },
  {
   "cell_type": "code",
   "execution_count": 297,
   "id": "317e0320",
   "metadata": {},
   "outputs": [
    {
     "data": {
      "text/plain": [
       "(array([4564., 2602., 2736., 2809., 3061., 3224., 3296., 3360., 3585.,\n",
       "        7936.]),\n",
       " array([ 1. ,  2.1,  3.2,  4.3,  5.4,  6.5,  7.6,  8.7,  9.8, 10.9, 12. ]),\n",
       " <BarContainer object of 10 artists>)"
      ]
     },
     "execution_count": 297,
     "metadata": {},
     "output_type": "execute_result"
    },
    {
     "data": {
      "image/png": "[encoded data removed]",
      "text/plain": [
       "<Figure size 432x288 with 1 Axes>"
      ]
     },
     "metadata": {
      "needs_background": "light"
     },
     "output_type": "display_data"
    }
   ],
   "source": [
    "plt.hist(loan.issue_month,edgecolor=\"red\")"
   ]
  },
  {
   "cell_type": "code",
   "execution_count": 298,
   "id": "7e4cc2b2",
   "metadata": {},
   "outputs": [
    {
     "data": {
      "text/plain": [
       "(array([ 571.,  336.,  355.,  440.,  457.,  459.,  452.,  525.,  546.,\n",
       "        1219.]),\n",
       " array([ 1. ,  2.1,  3.2,  4.3,  5.4,  6.5,  7.6,  8.7,  9.8, 10.9, 12. ]),\n",
       " <BarContainer object of 10 artists>)"
      ]
     },
     "execution_count": 298,
     "metadata": {},
     "output_type": "execute_result"
    },
    {
     "data": {
      "image/png": "[encoded data removed]",
      "text/plain": [
       "<Figure size 432x288 with 1 Axes>"
      ]
     },
     "metadata": {
      "needs_background": "light"
     },
     "output_type": "display_data"
    }
   ],
   "source": [
    "default_loan = loan[loan.loan_status==1]\n",
    "plt.hist(default_loan.issue_month,edgecolor=\"red\")"
   ]
  },
  {
   "cell_type": "markdown",
   "id": "22721d51",
   "metadata": {},
   "source": [
    "# dti"
   ]
  },
  {
   "cell_type": "code",
   "execution_count": 299,
   "id": "7f5055c7",
   "metadata": {},
   "outputs": [
    {
     "name": "stdout",
     "output_type": "stream",
     "text": [
      "29.99\n",
      "0.0\n"
     ]
    },
    {
     "data": {
      "text/html": [
       "<div>\n",
       "<style scoped>\n",
       "    .dataframe tbody tr th:only-of-type {\n",
       "        vertical-align: middle;\n",
       "    }\n",
       "\n",
       "    .dataframe tbody tr th {\n",
       "        vertical-align: top;\n",
       "    }\n",
       "\n",
       "    .dataframe thead th {\n",
       "        text-align: right;\n",
       "    }\n",
       "</style>\n",
       "<table border=\"1\" class=\"dataframe\">\n",
       "  <thead>\n",
       "    <tr style=\"text-align: right;\">\n",
       "      <th></th>\n",
       "      <th>loan_amnt</th>\n",
       "      <th>funded_amnt</th>\n",
       "      <th>funded_amnt_inv</th>\n",
       "      <th>term</th>\n",
       "      <th>int_rate</th>\n",
       "      <th>installment</th>\n",
       "      <th>grade</th>\n",
       "      <th>sub_grade</th>\n",
       "      <th>emp_length</th>\n",
       "      <th>home_ownership</th>\n",
       "      <th>...</th>\n",
       "      <th>delinq_amnt</th>\n",
       "      <th>issue_month</th>\n",
       "      <th>issue_year</th>\n",
       "      <th>int_rate_range</th>\n",
       "      <th>funded_amnt_inv_range</th>\n",
       "      <th>emp_length_range</th>\n",
       "      <th>annual_inc_range</th>\n",
       "      <th>grade_range</th>\n",
       "      <th>installment_range</th>\n",
       "      <th>dti_range</th>\n",
       "    </tr>\n",
       "  </thead>\n",
       "  <tbody>\n",
       "    <tr>\n",
       "      <th>0</th>\n",
       "      <td>5000.0</td>\n",
       "      <td>5000.0</td>\n",
       "      <td>4975.0</td>\n",
       "      <td>36</td>\n",
       "      <td>10.65</td>\n",
       "      <td>162.87</td>\n",
       "      <td>2</td>\n",
       "      <td>B2</td>\n",
       "      <td>10</td>\n",
       "      <td>RENT</td>\n",
       "      <td>...</td>\n",
       "      <td>0</td>\n",
       "      <td>12</td>\n",
       "      <td>2011</td>\n",
       "      <td>8% - 11%</td>\n",
       "      <td>0-5k</td>\n",
       "      <td>8-10+ year</td>\n",
       "      <td>4k-34k</td>\n",
       "      <td>1-3</td>\n",
       "      <td>15-230</td>\n",
       "      <td>(24.992, 29.99]</td>\n",
       "    </tr>\n",
       "    <tr>\n",
       "      <th>1</th>\n",
       "      <td>2500.0</td>\n",
       "      <td>2500.0</td>\n",
       "      <td>2500.0</td>\n",
       "      <td>60</td>\n",
       "      <td>15.27</td>\n",
       "      <td>59.83</td>\n",
       "      <td>3</td>\n",
       "      <td>C4</td>\n",
       "      <td>1</td>\n",
       "      <td>RENT</td>\n",
       "      <td>...</td>\n",
       "      <td>0</td>\n",
       "      <td>12</td>\n",
       "      <td>2011</td>\n",
       "      <td>14% - 17%</td>\n",
       "      <td>0-5k</td>\n",
       "      <td>0-2 year</td>\n",
       "      <td>4k-34k</td>\n",
       "      <td>1-3</td>\n",
       "      <td>15-230</td>\n",
       "      <td>(-0.03, 4.998]</td>\n",
       "    </tr>\n",
       "    <tr>\n",
       "      <th>2</th>\n",
       "      <td>2400.0</td>\n",
       "      <td>2400.0</td>\n",
       "      <td>2400.0</td>\n",
       "      <td>36</td>\n",
       "      <td>15.96</td>\n",
       "      <td>84.33</td>\n",
       "      <td>3</td>\n",
       "      <td>C5</td>\n",
       "      <td>10</td>\n",
       "      <td>RENT</td>\n",
       "      <td>...</td>\n",
       "      <td>0</td>\n",
       "      <td>12</td>\n",
       "      <td>2011</td>\n",
       "      <td>14% - 17%</td>\n",
       "      <td>0-5k</td>\n",
       "      <td>8-10+ year</td>\n",
       "      <td>4k-34k</td>\n",
       "      <td>1-3</td>\n",
       "      <td>15-230</td>\n",
       "      <td>(4.998, 9.997]</td>\n",
       "    </tr>\n",
       "    <tr>\n",
       "      <th>3</th>\n",
       "      <td>10000.0</td>\n",
       "      <td>10000.0</td>\n",
       "      <td>10000.0</td>\n",
       "      <td>36</td>\n",
       "      <td>13.49</td>\n",
       "      <td>339.31</td>\n",
       "      <td>3</td>\n",
       "      <td>C1</td>\n",
       "      <td>10</td>\n",
       "      <td>RENT</td>\n",
       "      <td>...</td>\n",
       "      <td>0</td>\n",
       "      <td>12</td>\n",
       "      <td>2011</td>\n",
       "      <td>11% - 14%</td>\n",
       "      <td>5k-10k</td>\n",
       "      <td>8-10+ year</td>\n",
       "      <td>34k-64k</td>\n",
       "      <td>1-3</td>\n",
       "      <td>230-445</td>\n",
       "      <td>(19.993, 24.992]</td>\n",
       "    </tr>\n",
       "    <tr>\n",
       "      <th>5</th>\n",
       "      <td>5000.0</td>\n",
       "      <td>5000.0</td>\n",
       "      <td>5000.0</td>\n",
       "      <td>36</td>\n",
       "      <td>7.90</td>\n",
       "      <td>156.46</td>\n",
       "      <td>1</td>\n",
       "      <td>A4</td>\n",
       "      <td>3</td>\n",
       "      <td>RENT</td>\n",
       "      <td>...</td>\n",
       "      <td>0</td>\n",
       "      <td>12</td>\n",
       "      <td>2011</td>\n",
       "      <td>5% - 8%</td>\n",
       "      <td>0-5k</td>\n",
       "      <td>2-4 year</td>\n",
       "      <td>34k-64k</td>\n",
       "      <td>NaN</td>\n",
       "      <td>15-230</td>\n",
       "      <td>(9.997, 14.995]</td>\n",
       "    </tr>\n",
       "  </tbody>\n",
       "</table>\n",
       "<p>5 rows × 28 columns</p>\n",
       "</div>"
      ],
      "text/plain": [
       "   loan_amnt  funded_amnt  funded_amnt_inv  term  int_rate  installment  \\\n",
       "0     5000.0       5000.0           4975.0    36     10.65       162.87   \n",
       "1     2500.0       2500.0           2500.0    60     15.27        59.83   \n",
       "2     2400.0       2400.0           2400.0    36     15.96        84.33   \n",
       "3    10000.0      10000.0          10000.0    36     13.49       339.31   \n",
       "5     5000.0       5000.0           5000.0    36      7.90       156.46   \n",
       "\n",
       "   grade sub_grade  emp_length home_ownership  ...  delinq_amnt issue_month  \\\n",
       "0      2        B2          10           RENT  ...            0          12   \n",
       "1      3        C4           1           RENT  ...            0          12   \n",
       "2      3        C5          10           RENT  ...            0          12   \n",
       "3      3        C1          10           RENT  ...            0          12   \n",
       "5      1        A4           3           RENT  ...            0          12   \n",
       "\n",
       "   issue_year int_rate_range funded_amnt_inv_range emp_length_range  \\\n",
       "0        2011       8% - 11%                  0-5k       8-10+ year   \n",
       "1        2011      14% - 17%                  0-5k         0-2 year   \n",
       "2        2011      14% - 17%                  0-5k       8-10+ year   \n",
       "3        2011      11% - 14%                5k-10k       8-10+ year   \n",
       "5        2011        5% - 8%                  0-5k         2-4 year   \n",
       "\n",
       "   annual_inc_range grade_range installment_range         dti_range  \n",
       "0            4k-34k         1-3            15-230   (24.992, 29.99]  \n",
       "1            4k-34k         1-3            15-230    (-0.03, 4.998]  \n",
       "2            4k-34k         1-3            15-230    (4.998, 9.997]  \n",
       "3           34k-64k         1-3           230-445  (19.993, 24.992]  \n",
       "5           34k-64k         NaN            15-230   (9.997, 14.995]  \n",
       "\n",
       "[5 rows x 28 columns]"
      ]
     },
     "execution_count": 299,
     "metadata": {},
     "output_type": "execute_result"
    }
   ],
   "source": [
    "print(loan.dti.max())\n",
    "print(loan.dti.min())\n",
    "loan[\"dti_range\"] = pd.cut(loan[\"dti\"],bins=6)\n",
    "loan.head()"
   ]
  },
  {
   "cell_type": "code",
   "execution_count": 300,
   "id": "793b7886",
   "metadata": {},
   "outputs": [
    {
     "data": {
      "image/png": "[encoded data removed]",
      "text/plain": [
       "<Figure size 432x288 with 1 Axes>"
      ]
     },
     "metadata": {
      "needs_background": "light"
     },
     "output_type": "display_data"
    }
   ],
   "source": [
    "sns.barplot(x=\"dti_range\",y=\"loan_status\",data=loan)\n",
    "plt.xticks(rotation=90)\n",
    "plt.show()"
   ]
  },
  {
   "cell_type": "code",
   "execution_count": 301,
   "id": "ad3260d5",
   "metadata": {},
   "outputs": [],
   "source": [
    "# We can see that a negative corelation between dti and income.\n",
    "# Also it has been noted that higher the number of dti ,higher the defaulters"
   ]
  },
  {
   "cell_type": "markdown",
   "id": "e75c3a9b",
   "metadata": {},
   "source": [
    "# Bivariate Analysis"
   ]
  },
  {
   "cell_type": "markdown",
   "id": "e9f86ed8",
   "metadata": {},
   "source": [
    "# funded_amnt_inv_range VS term"
   ]
  },
  {
   "cell_type": "code",
   "execution_count": 302,
   "id": "9e2b782f",
   "metadata": {},
   "outputs": [
    {
     "data": {
      "text/plain": [
       "<AxesSubplot:xlabel='funded_amnt_inv_range', ylabel='loan_status'>"
      ]
     },
     "execution_count": 302,
     "metadata": {},
     "output_type": "execute_result"
    },
    {
     "data": {
      "image/png": "[encoded data removed]",
      "text/plain": [
       "<Figure size 720x432 with 1 Axes>"
      ]
     },
     "metadata": {
      "needs_background": "light"
     },
     "output_type": "display_data"
    }
   ],
   "source": [
    "plt.figure(figsize=[10,6])\n",
    "sns.barplot(loan.funded_amnt_inv_range,loan.loan_status,hue=loan.term)"
   ]
  },
  {
   "cell_type": "code",
   "execution_count": 303,
   "id": "132dfc6b",
   "metadata": {},
   "outputs": [],
   "source": [
    "# We can see that with increase in funded_amnt_inv , default rate is decreasing with 36 term and but increreasing in 60 term"
   ]
  },
  {
   "cell_type": "code",
   "execution_count": 304,
   "id": "1865bc24",
   "metadata": {},
   "outputs": [
    {
     "data": {
      "text/plain": [
       "<AxesSubplot:xlabel='loan_status', ylabel='int_rate'>"
      ]
     },
     "execution_count": 304,
     "metadata": {},
     "output_type": "execute_result"
    },
    {
     "data": {
      "image/png": "[encoded data removed]",
      "text/plain": [
       "<Figure size 720x432 with 1 Axes>"
      ]
     },
     "metadata": {
      "needs_background": "light"
     },
     "output_type": "display_data"
    }
   ],
   "source": [
    "plt.figure(figsize=[10,6])\n",
    "sns.boxplot(x = 'loan_status', y = 'int_rate', data = loan)"
   ]
  },
  {
   "cell_type": "code",
   "execution_count": 305,
   "id": "5072cca4",
   "metadata": {},
   "outputs": [],
   "source": [
    "# We can see that loans at high interest are more risky"
   ]
  },
  {
   "cell_type": "markdown",
   "id": "34247c9b",
   "metadata": {},
   "source": [
    "# term VS int_rate"
   ]
  },
  {
   "cell_type": "code",
   "execution_count": 306,
   "id": "9eda52b5",
   "metadata": {},
   "outputs": [
    {
     "data": {
      "text/plain": [
       "<AxesSubplot:xlabel='term', ylabel='int_rate'>"
      ]
     },
     "execution_count": 306,
     "metadata": {},
     "output_type": "execute_result"
    },
    {
     "data": {
      "image/png": "[encoded data removed]",
      "text/plain": [
       "<Figure size 720x432 with 1 Axes>"
      ]
     },
     "metadata": {
      "needs_background": "light"
     },
     "output_type": "display_data"
    }
   ],
   "source": [
    "plt.figure(figsize=[10,6])\n",
    "sns.boxplot(x = 'term', y = 'int_rate', data = loan)"
   ]
  },
  {
   "cell_type": "code",
   "execution_count": 307,
   "id": "3032f5db",
   "metadata": {},
   "outputs": [],
   "source": [
    "# More interest rate is linked to 60 term"
   ]
  },
  {
   "cell_type": "markdown",
   "id": "6d96a281",
   "metadata": {},
   "source": [
    "# grade VS int_rate"
   ]
  },
  {
   "cell_type": "code",
   "execution_count": 308,
   "id": "a3289621",
   "metadata": {},
   "outputs": [
    {
     "data": {
      "text/plain": [
       "<AxesSubplot:xlabel='grade', ylabel='int_rate'>"
      ]
     },
     "execution_count": 308,
     "metadata": {},
     "output_type": "execute_result"
    },
    {
     "data": {
      "image/png": "[encoded data removed]",
      "text/plain": [
       "<Figure size 720x432 with 1 Axes>"
      ]
     },
     "metadata": {
      "needs_background": "light"
     },
     "output_type": "display_data"
    }
   ],
   "source": [
    "plt.figure(figsize=[10,6])\n",
    "sns.boxplot(x = 'grade', y = 'int_rate', data = loan)"
   ]
  },
  {
   "cell_type": "code",
   "execution_count": 309,
   "id": "07db1c5d",
   "metadata": {},
   "outputs": [],
   "source": [
    "#Interest rate increasing with increase in grade\n",
    "#We see the median going downwards with increase in grades depicting that higher the grade leads to higher percentage of people\n",
    "#bearing high interest rates"
   ]
  },
  {
   "cell_type": "markdown",
   "id": "d7da04be",
   "metadata": {},
   "source": [
    "# issue_year VS int_rate"
   ]
  },
  {
   "cell_type": "code",
   "execution_count": 310,
   "id": "7d04ed7e",
   "metadata": {},
   "outputs": [
    {
     "data": {
      "text/plain": [
       "<AxesSubplot:xlabel='issue_year', ylabel='int_rate'>"
      ]
     },
     "execution_count": 310,
     "metadata": {},
     "output_type": "execute_result"
    },
    {
     "data": {
      "image/png": "[encoded data removed]",
      "text/plain": [
       "<Figure size 720x432 with 1 Axes>"
      ]
     },
     "metadata": {
      "needs_background": "light"
     },
     "output_type": "display_data"
    }
   ],
   "source": [
    "plt.figure(figsize=[10,6])\n",
    "sns.boxplot(x = 'issue_year', y = 'int_rate', data = loan)"
   ]
  },
  {
   "cell_type": "code",
   "execution_count": 311,
   "id": "432cc9f2",
   "metadata": {},
   "outputs": [],
   "source": [
    "# We can see increase in interest rate with increase in years"
   ]
  },
  {
   "cell_type": "markdown",
   "id": "1a7fecbc",
   "metadata": {},
   "source": [
    "# installment_range VS annual_inc"
   ]
  },
  {
   "cell_type": "code",
   "execution_count": 312,
   "id": "bf17ea2e",
   "metadata": {},
   "outputs": [
    {
     "data": {
      "text/plain": [
       "<AxesSubplot:xlabel='installment_range', ylabel='annual_inc'>"
      ]
     },
     "execution_count": 312,
     "metadata": {},
     "output_type": "execute_result"
    },
    {
     "data": {
      "image/png": "[encoded data removed]",
      "text/plain": [
       "<Figure size 720x432 with 1 Axes>"
      ]
     },
     "metadata": {
      "needs_background": "light"
     },
     "output_type": "display_data"
    }
   ],
   "source": [
    "plt.figure(figsize=[10,6])\n",
    "sns.boxplot(x = 'installment_range', y = 'annual_inc',hue=\"loan_status\", data = loan)"
   ]
  },
  {
   "cell_type": "code",
   "execution_count": 313,
   "id": "8c332e2c",
   "metadata": {},
   "outputs": [],
   "source": [
    "# We can see that with increse in anual income, installment is also increasing and charged off decreasing"
   ]
  },
  {
   "cell_type": "code",
   "execution_count": 314,
   "id": "8721c2a1",
   "metadata": {},
   "outputs": [
    {
     "data": {
      "text/plain": [
       "<AxesSubplot:xlabel='home_ownership', ylabel='int_rate'>"
      ]
     },
     "execution_count": 314,
     "metadata": {},
     "output_type": "execute_result"
    },
    {
     "data": {
      "image/png": "[encoded data removed]",
      "text/plain": [
       "<Figure size 720x432 with 1 Axes>"
      ]
     },
     "metadata": {
      "needs_background": "light"
     },
     "output_type": "display_data"
    }
   ],
   "source": [
    "plt.figure(figsize=[10,6])\n",
    "sns.barplot(x = 'home_ownership', y = 'int_rate',hue=\"loan_status\", data = loan)"
   ]
  },
  {
   "cell_type": "code",
   "execution_count": 315,
   "id": "18d57924",
   "metadata": {},
   "outputs": [],
   "source": [
    "# Not useful as we can't see any trends"
   ]
  },
  {
   "cell_type": "markdown",
   "id": "cf5ec4f2",
   "metadata": {},
   "source": [
    "# issue_year VS addr_state"
   ]
  },
  {
   "cell_type": "code",
   "execution_count": 316,
   "id": "afcc986b",
   "metadata": {},
   "outputs": [
    {
     "data": {
      "text/plain": [
       "<AxesSubplot:xlabel='issue_year', ylabel='loan_status'>"
      ]
     },
     "execution_count": 316,
     "metadata": {},
     "output_type": "execute_result"
    },
    {
     "data": {
      "image/png": "[encoded data removed]",
      "text/plain": [
       "<Figure size 1440x1080 with 1 Axes>"
      ]
     },
     "metadata": {
      "needs_background": "light"
     },
     "output_type": "display_data"
    }
   ],
   "source": [
    "plt.figure(figsize=[20,15])\n",
    "sns.barplot(x = 'issue_year', y = 'loan_status',hue=\"addr_state\", data = loan)"
   ]
  },
  {
   "cell_type": "markdown",
   "id": "2a936595",
   "metadata": {},
   "source": [
    "# grade VS purpose"
   ]
  },
  {
   "cell_type": "code",
   "execution_count": 124,
   "id": "d6154ad6",
   "metadata": {},
   "outputs": [
    {
     "data": {
      "text/plain": [
       "<AxesSubplot:xlabel='grade', ylabel='loan_status'>"
      ]
     },
     "execution_count": 124,
     "metadata": {},
     "output_type": "execute_result"
    },
    {
     "data": {
      "image/png": "[encoded data removed]",
      "text/plain": [
       "<Figure size 1440x720 with 1 Axes>"
      ]
     },
     "metadata": {
      "needs_background": "light"
     },
     "output_type": "display_data"
    }
   ],
   "source": [
    "plt.figure(figsize=[20,10])\n",
    "sns.barplot(loan.grade,loan.loan_status,hue=loan.purpose)"
   ]
  },
  {
   "cell_type": "markdown",
   "id": "5f8f0ef3",
   "metadata": {},
   "source": [
    "# addr_state VS term"
   ]
  },
  {
   "cell_type": "code",
   "execution_count": 340,
   "id": "f51202e5",
   "metadata": {},
   "outputs": [
    {
     "data": {
      "text/plain": [
       "<AxesSubplot:xlabel='addr_state', ylabel='loan_status'>"
      ]
     },
     "execution_count": 340,
     "metadata": {},
     "output_type": "execute_result"
    },
    {
     "data": {
      "image/png": "[encoded data removed]",
      "text/plain": [
       "<Figure size 1440x720 with 1 Axes>"
      ]
     },
     "metadata": {
      "needs_background": "light"
     },
     "output_type": "display_data"
    }
   ],
   "source": [
    "plt.figure(figsize=[20,10])\n",
    "sns.barplot(loan.addr_state,loan.loan_status,hue=loan.term)"
   ]
  },
  {
   "cell_type": "code",
   "execution_count": null,
   "id": "96870d31",
   "metadata": {},
   "outputs": [],
   "source": [
    "# MS/TN/NE/Id  no loans have taken for 60 term and default is more"
   ]
  },
  {
   "cell_type": "markdown",
   "id": "28df0d34",
   "metadata": {},
   "source": [
    "# Annual income vs loan purpose"
   ]
  },
  {
   "cell_type": "code",
   "execution_count": 190,
   "id": "41187e2f",
   "metadata": {},
   "outputs": [
    {
     "data": {
      "image/png": "[encoded data removed]",
      "text/plain": [
       "<Figure size 720x720 with 1 Axes>"
      ]
     },
     "metadata": {
      "needs_background": "light"
     },
     "output_type": "display_data"
    }
   ],
   "source": [
    "\n",
    "plt.figure(figsize=(10,10))\n",
    "sns.barplot(data =loan,x='purpose', y='annual_inc', hue ='loan_status',palette=\"deep\")\n",
    "plt.xticks(rotation=90)\n",
    "plt.show()"
   ]
  },
  {
   "cell_type": "code",
   "execution_count": null,
   "id": "3634d3c3",
   "metadata": {},
   "outputs": [],
   "source": [
    "# We can see that maxium number of loans are taken when salary is high for home_improvement/small business/house"
   ]
  },
  {
   "cell_type": "markdown",
   "id": "a0f7791d",
   "metadata": {},
   "source": [
    " # funded_amnt_inv vs int_rate"
   ]
  },
  {
   "cell_type": "code",
   "execution_count": 334,
   "id": "1ba4f79e",
   "metadata": {},
   "outputs": [
    {
     "data": {
      "image/png": "[encoded data removed]",
      "text/plain": [
       "<Figure size 720x720 with 1 Axes>"
      ]
     },
     "metadata": {
      "needs_background": "light"
     },
     "output_type": "display_data"
    }
   ],
   "source": [
    "plt.figure(figsize=(10,10))\n",
    "sns.barplot(data =loan,x='funded_amnt_inv_range', y='int_rate', hue ='loan_status')\n",
    "plt.show()"
   ]
  },
  {
   "cell_type": "code",
   "execution_count": null,
   "id": "7252cc9d",
   "metadata": {},
   "outputs": [],
   "source": [
    "# We can see that with increase in funded_amnt range, rate of intrest increases. Also default loan increases"
   ]
  },
  {
   "cell_type": "markdown",
   "id": "1de62dd6",
   "metadata": {},
   "source": [
    "# funded_amnt_inv vs purpose"
   ]
  },
  {
   "cell_type": "code",
   "execution_count": 338,
   "id": "ee09d316",
   "metadata": {},
   "outputs": [
    {
     "data": {
      "image/png": "[encoded data removed]",
      "text/plain": [
       "<Figure size 720x720 with 1 Axes>"
      ]
     },
     "metadata": {
      "needs_background": "light"
     },
     "output_type": "display_data"
    }
   ],
   "source": [
    "plt.figure(figsize=(10,10))\n",
    "sns.barplot(data =loan,x='purpose', y='funded_amnt_inv', hue ='loan_status')\n",
    "plt.xticks(rotation=90)\n",
    "plt.show()"
   ]
  },
  {
   "cell_type": "code",
   "execution_count": null,
   "id": "9e6dc8df",
   "metadata": {},
   "outputs": [],
   "source": [
    "# Maximum loans are taken for  debt_consolidation/small business/house/credit card"
   ]
  },
  {
   "cell_type": "markdown",
   "id": "ff37331d",
   "metadata": {},
   "source": [
    "# Multivariate analysis"
   ]
  },
  {
   "cell_type": "code",
   "execution_count": 141,
   "id": "c45a01ce",
   "metadata": {},
   "outputs": [],
   "source": [
    "defaulter = loan[['loan_amnt',\"funded_amnt_inv\",'int_rate','installment','annual_inc','dti','term',\"grade\",\"emp_length\",\"issue_year\",\"issue_month\"]]\n",
    "correlation = defaulter.corr()"
   ]
  },
  {
   "cell_type": "code",
   "execution_count": 142,
   "id": "cc96032a",
   "metadata": {},
   "outputs": [
    {
     "data": {
      "image/png": "[encoded data removed]",
      "text/plain": [
       "<Figure size 1440x432 with 2 Axes>"
      ]
     },
     "metadata": {
      "needs_background": "light"
     },
     "output_type": "display_data"
    }
   ],
   "source": [
    "plt.figure(figsize=[20,6])\n",
    "sns.heatmap(correlation,annot=True)\n",
    "plt.show()"
   ]
  },
  {
   "cell_type": "markdown",
   "id": "b8127ec4",
   "metadata": {},
   "source": [
    "# Negative correlation\n",
    "+ dti Vs annual_inc:- We see a decrement in dti with an increase in annual income\n",
    "+ int_rate Vs emp_length:- We see a decrement in int_rate with increase in employment tenure\n",
    "+ grade vs emp_length : With an increase in employment tenure we see lower grade value which is directly correlated \n",
    "+ to rate of interest charged to customer\n",
    "\n",
    "# Positive Correlation\n",
    "+ with an increase in grade, we saw an increase in interest rate\n",
    "+ With an inrease in loan amount, we saw increase in installment\n",
    "+ With an increase in annual income, we saw increase in installment with a higher capacity to bear loans\n",
    "+ With an increase in term, we saw an increase in interest rate"
   ]
  },
  {
   "cell_type": "markdown",
   "id": "2d2992db",
   "metadata": {},
   "source": [
    "# Business recommendation\n",
    "\n",
    "+ We saw an increment in loan defaulters during economic down fall in 2007 year\n",
    "+ We saw maximum number of loans in DECEMBER and JANUARY, then we see a down fall in february\n",
    "+ Maximum number of education /credit card / debt consolidation/ medical\n",
    "+ We saw that with an increase in grade (1-6) , default loan increases \n",
    "+ When checked through state graph we saw maximum number of defaulter in NE addr_state, whereas IE,IA,ME has zero default loans"
   ]
  }
 ],
 "metadata": {
  "kernelspec": {
   "display_name": "Python 3 (ipykernel)",
   "language": "python",
   "name": "python3"
  },
  "language_info": {
   "codemirror_mode": {
    "name": "ipython",
    "version": 3
   },
   "file_extension": ".py",
   "mimetype": "text/x-python",
   "name": "python",
   "nbconvert_exporter": "python",
   "pygments_lexer": "ipython3",
   "version": "3.9.7"
  }
 },
 "nbformat": 4,
 "nbformat_minor": 5
}
